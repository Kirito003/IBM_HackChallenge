{
 "cells": [
  {
   "cell_type": "markdown",
   "id": "a0b8b4e1",
   "metadata": {},
   "source": [
    "# Super Predictor Of Indian Premier League (IPL)"
   ]
  },
  {
   "attachments": {
    "ipl.jpg": {
     "image/jpeg": "[encoded data removed]"
    }
   },
   "cell_type": "markdown",
   "id": "73b8f201",
   "metadata": {},
   "source": [
    "![ipl.jpg](attachment:ipl.jpg)"
   ]
  },
  {
   "cell_type": "markdown",
   "id": "6ea3bc24",
   "metadata": {},
   "source": [
    "## Description:\n",
    "Since the dawn of the IPL in 2008, it has attracted viewers all around the globe.\n",
    "A high level of uncertainty and last moment nail biters has drawn the fans to watch the matches in large numbers.\n",
    "Within a short period, IPL has become the highest revenue-generating league of cricket.\n",
    "With all this, the amount of data being generated in terms of matches revenue scores, etc has also become huge.\n",
    "Analyzing such vast amounts of data would give great insights in forecasting match results, top scores, and wicket-takers, etc. "
   ]
  },
  {
   "cell_type": "markdown",
   "id": "42929081",
   "metadata": {},
   "source": [
    "## Expected Solution:\n",
    "\n",
    "The objective of this solution is to create a dashboard that visualizes the following capabilities and also forecast the future results\n",
    "\n",
    "1. To find the team that won the most number of matches in the entire IPL.\n",
    "\n",
    "2. To find the team that lost the most number of matches in the entire IPL.\n",
    "\n",
    "3. Does winning a toss increase the chances of victory.\n",
    "\n",
    "4. To find the player with the most player of the match awards.\n",
    "\n",
    "5. To find the city that hosted the maximum number of IPL matches.\n",
    "\n",
    "6. To find the most winning team for each season.\n",
    "\n",
    "7. To find the on-field umpire with the maximum number of IPL matches.\n",
    "\n",
    "8. To find the biggest victories in IPL while defending a total and while chasing a total.\n",
    "\n",
    "9. Which team won the most matches while batting first\n",
    "\n",
    "10. Which team won the most matches while batting second\n",
    "\n",
    "11. List of teams which have won matches by most runs cumulatively"
   ]
  },
  {
   "cell_type": "markdown",
   "id": "e48fc841",
   "metadata": {},
   "source": [
    "## Analysis and Pre-processing of data done in Jupyter Notebook"
   ]
  },
  {
   "cell_type": "markdown",
   "id": "485e8ce6",
   "metadata": {},
   "source": [
    "### Importing Libraries"
   ]
  },
  {
   "cell_type": "code",
   "execution_count": 11,
   "id": "9bba3ede",
   "metadata": {},
   "outputs": [],
   "source": [
    "import numpy as np\n",
    "import pandas as pd\n",
    "import matplotlib.pyplot as plt\n",
    "import seaborn as sns\n",
    "%matplotlib inline"
   ]
  },
  {
   "cell_type": "markdown",
   "id": "733e78c0",
   "metadata": {},
   "source": [
    "### Reading the data"
   ]
  },
  {
   "cell_type": "code",
   "execution_count": 2,
   "id": "626e8f41",
   "metadata": {},
   "outputs": [],
   "source": [
    "df = pd.read_csv('matches.csv')"
   ]
  },
  {
   "cell_type": "code",
   "execution_count": 3,
   "id": "d3599a43",
   "metadata": {
    "scrolled": false
   },
   "outputs": [
    {
     "data": {
      "text/html": [
       "<div>\n",
       "<style scoped>\n",
       "    .dataframe tbody tr th:only-of-type {\n",
       "        vertical-align: middle;\n",
       "    }\n",
       "\n",
       "    .dataframe tbody tr th {\n",
       "        vertical-align: top;\n",
       "    }\n",
       "\n",
       "    .dataframe thead th {\n",
       "        text-align: right;\n",
       "    }\n",
       "</style>\n",
       "<table border=\"1\" class=\"dataframe\">\n",
       "  <thead>\n",
       "    <tr style=\"text-align: right;\">\n",
       "      <th></th>\n",
       "      <th>id</th>\n",
       "      <th>season</th>\n",
       "      <th>city</th>\n",
       "      <th>date</th>\n",
       "      <th>team1</th>\n",
       "      <th>team2</th>\n",
       "      <th>toss_winner</th>\n",
       "      <th>toss_decision</th>\n",
       "      <th>result</th>\n",
       "      <th>dl_applied</th>\n",
       "      <th>winner</th>\n",
       "      <th>win_by_runs</th>\n",
       "      <th>win_by_wickets</th>\n",
       "      <th>player_of_match</th>\n",
       "      <th>venue</th>\n",
       "      <th>umpire1</th>\n",
       "      <th>umpire2</th>\n",
       "      <th>umpire3</th>\n",
       "    </tr>\n",
       "  </thead>\n",
       "  <tbody>\n",
       "    <tr>\n",
       "      <th>0</th>\n",
       "      <td>1</td>\n",
       "      <td>2017</td>\n",
       "      <td>Hyderabad</td>\n",
       "      <td>05-04-2017</td>\n",
       "      <td>Sunrisers Hyderabad</td>\n",
       "      <td>Royal Challengers Bangalore</td>\n",
       "      <td>Royal Challengers Bangalore</td>\n",
       "      <td>field</td>\n",
       "      <td>normal</td>\n",
       "      <td>0</td>\n",
       "      <td>Sunrisers Hyderabad</td>\n",
       "      <td>35</td>\n",
       "      <td>0</td>\n",
       "      <td>Yuvraj Singh</td>\n",
       "      <td>Rajiv Gandhi International Stadium, Uppal</td>\n",
       "      <td>AY Dandekar</td>\n",
       "      <td>NJ Llong</td>\n",
       "      <td>NaN</td>\n",
       "    </tr>\n",
       "    <tr>\n",
       "      <th>1</th>\n",
       "      <td>2</td>\n",
       "      <td>2017</td>\n",
       "      <td>Pune</td>\n",
       "      <td>06-04-2017</td>\n",
       "      <td>Mumbai Indians</td>\n",
       "      <td>Rising Pune Supergiant</td>\n",
       "      <td>Rising Pune Supergiant</td>\n",
       "      <td>field</td>\n",
       "      <td>normal</td>\n",
       "      <td>0</td>\n",
       "      <td>Rising Pune Supergiant</td>\n",
       "      <td>0</td>\n",
       "      <td>7</td>\n",
       "      <td>SPD Smith</td>\n",
       "      <td>Maharashtra Cricket Association Stadium</td>\n",
       "      <td>A Nand Kishore</td>\n",
       "      <td>S Ravi</td>\n",
       "      <td>NaN</td>\n",
       "    </tr>\n",
       "    <tr>\n",
       "      <th>2</th>\n",
       "      <td>3</td>\n",
       "      <td>2017</td>\n",
       "      <td>Rajkot</td>\n",
       "      <td>07-04-2017</td>\n",
       "      <td>Gujarat Lions</td>\n",
       "      <td>Kolkata Knight Riders</td>\n",
       "      <td>Kolkata Knight Riders</td>\n",
       "      <td>field</td>\n",
       "      <td>normal</td>\n",
       "      <td>0</td>\n",
       "      <td>Kolkata Knight Riders</td>\n",
       "      <td>0</td>\n",
       "      <td>10</td>\n",
       "      <td>CA Lynn</td>\n",
       "      <td>Saurashtra Cricket Association Stadium</td>\n",
       "      <td>Nitin Menon</td>\n",
       "      <td>CK Nandan</td>\n",
       "      <td>NaN</td>\n",
       "    </tr>\n",
       "    <tr>\n",
       "      <th>3</th>\n",
       "      <td>4</td>\n",
       "      <td>2017</td>\n",
       "      <td>Indore</td>\n",
       "      <td>08-04-2017</td>\n",
       "      <td>Rising Pune Supergiant</td>\n",
       "      <td>Kings XI Punjab</td>\n",
       "      <td>Kings XI Punjab</td>\n",
       "      <td>field</td>\n",
       "      <td>normal</td>\n",
       "      <td>0</td>\n",
       "      <td>Kings XI Punjab</td>\n",
       "      <td>0</td>\n",
       "      <td>6</td>\n",
       "      <td>GJ Maxwell</td>\n",
       "      <td>Holkar Cricket Stadium</td>\n",
       "      <td>AK Chaudhary</td>\n",
       "      <td>C Shamshuddin</td>\n",
       "      <td>NaN</td>\n",
       "    </tr>\n",
       "    <tr>\n",
       "      <th>4</th>\n",
       "      <td>5</td>\n",
       "      <td>2017</td>\n",
       "      <td>Bangalore</td>\n",
       "      <td>08-04-2017</td>\n",
       "      <td>Royal Challengers Bangalore</td>\n",
       "      <td>Delhi Daredevils</td>\n",
       "      <td>Royal Challengers Bangalore</td>\n",
       "      <td>bat</td>\n",
       "      <td>normal</td>\n",
       "      <td>0</td>\n",
       "      <td>Royal Challengers Bangalore</td>\n",
       "      <td>15</td>\n",
       "      <td>0</td>\n",
       "      <td>KM Jadhav</td>\n",
       "      <td>M Chinnaswamy Stadium</td>\n",
       "      <td>Virender Sharma</td>\n",
       "      <td>S Ravi</td>\n",
       "      <td>NaN</td>\n",
       "    </tr>\n",
       "  </tbody>\n",
       "</table>\n",
       "</div>"
      ],
      "text/plain": [
       "   id  season       city        date                        team1  \\\n",
       "0   1    2017  Hyderabad  05-04-2017          Sunrisers Hyderabad   \n",
       "1   2    2017       Pune  06-04-2017               Mumbai Indians   \n",
       "2   3    2017     Rajkot  07-04-2017                Gujarat Lions   \n",
       "3   4    2017     Indore  08-04-2017       Rising Pune Supergiant   \n",
       "4   5    2017  Bangalore  08-04-2017  Royal Challengers Bangalore   \n",
       "\n",
       "                         team2                  toss_winner toss_decision  \\\n",
       "0  Royal Challengers Bangalore  Royal Challengers Bangalore         field   \n",
       "1       Rising Pune Supergiant       Rising Pune Supergiant         field   \n",
       "2        Kolkata Knight Riders        Kolkata Knight Riders         field   \n",
       "3              Kings XI Punjab              Kings XI Punjab         field   \n",
       "4             Delhi Daredevils  Royal Challengers Bangalore           bat   \n",
       "\n",
       "   result  dl_applied                       winner  win_by_runs  \\\n",
       "0  normal           0          Sunrisers Hyderabad           35   \n",
       "1  normal           0       Rising Pune Supergiant            0   \n",
       "2  normal           0        Kolkata Knight Riders            0   \n",
       "3  normal           0              Kings XI Punjab            0   \n",
       "4  normal           0  Royal Challengers Bangalore           15   \n",
       "\n",
       "   win_by_wickets player_of_match                                      venue  \\\n",
       "0               0    Yuvraj Singh  Rajiv Gandhi International Stadium, Uppal   \n",
       "1               7       SPD Smith    Maharashtra Cricket Association Stadium   \n",
       "2              10         CA Lynn     Saurashtra Cricket Association Stadium   \n",
       "3               6      GJ Maxwell                     Holkar Cricket Stadium   \n",
       "4               0       KM Jadhav                      M Chinnaswamy Stadium   \n",
       "\n",
       "           umpire1        umpire2 umpire3  \n",
       "0      AY Dandekar       NJ Llong     NaN  \n",
       "1   A Nand Kishore         S Ravi     NaN  \n",
       "2      Nitin Menon      CK Nandan     NaN  \n",
       "3     AK Chaudhary  C Shamshuddin     NaN  \n",
       "4  Virender Sharma         S Ravi     NaN  "
      ]
     },
     "execution_count": 3,
     "metadata": {},
     "output_type": "execute_result"
    }
   ],
   "source": [
    "df.head()"
   ]
  },
  {
   "cell_type": "code",
   "execution_count": 4,
   "id": "00b68a42",
   "metadata": {
    "scrolled": false
   },
   "outputs": [
    {
     "data": {
      "text/plain": [
       "Index(['id', 'season', 'city', 'date', 'team1', 'team2', 'toss_winner',\n",
       "       'toss_decision', 'result', 'dl_applied', 'winner', 'win_by_runs',\n",
       "       'win_by_wickets', 'player_of_match', 'venue', 'umpire1', 'umpire2',\n",
       "       'umpire3'],\n",
       "      dtype='object')"
      ]
     },
     "execution_count": 4,
     "metadata": {},
     "output_type": "execute_result"
    }
   ],
   "source": [
    "df.columns"
   ]
  },
  {
   "cell_type": "markdown",
   "id": "d681302a",
   "metadata": {},
   "source": [
    "### Dropping unnecessary columns\n",
    "\n",
    "Based on the given problem statements it can be easily observed that the following columns arent necessary - id, data, dl_applied, venue, umpire3"
   ]
  },
  {
   "cell_type": "code",
   "execution_count": 5,
   "id": "711301e4",
   "metadata": {},
   "outputs": [],
   "source": [
    "df.drop(['id', 'date', 'dl_applied', 'venue', 'umpire3'], axis = 1, inplace = True)"
   ]
  },
  {
   "cell_type": "code",
   "execution_count": 6,
   "id": "a0687c04",
   "metadata": {},
   "outputs": [
    {
     "data": {
      "text/html": [
       "<div>\n",
       "<style scoped>\n",
       "    .dataframe tbody tr th:only-of-type {\n",
       "        vertical-align: middle;\n",
       "    }\n",
       "\n",
       "    .dataframe tbody tr th {\n",
       "        vertical-align: top;\n",
       "    }\n",
       "\n",
       "    .dataframe thead th {\n",
       "        text-align: right;\n",
       "    }\n",
       "</style>\n",
       "<table border=\"1\" class=\"dataframe\">\n",
       "  <thead>\n",
       "    <tr style=\"text-align: right;\">\n",
       "      <th></th>\n",
       "      <th>season</th>\n",
       "      <th>city</th>\n",
       "      <th>team1</th>\n",
       "      <th>team2</th>\n",
       "      <th>toss_winner</th>\n",
       "      <th>toss_decision</th>\n",
       "      <th>result</th>\n",
       "      <th>winner</th>\n",
       "      <th>win_by_runs</th>\n",
       "      <th>win_by_wickets</th>\n",
       "      <th>player_of_match</th>\n",
       "      <th>umpire1</th>\n",
       "      <th>umpire2</th>\n",
       "    </tr>\n",
       "  </thead>\n",
       "  <tbody>\n",
       "    <tr>\n",
       "      <th>0</th>\n",
       "      <td>2017</td>\n",
       "      <td>Hyderabad</td>\n",
       "      <td>Sunrisers Hyderabad</td>\n",
       "      <td>Royal Challengers Bangalore</td>\n",
       "      <td>Royal Challengers Bangalore</td>\n",
       "      <td>field</td>\n",
       "      <td>normal</td>\n",
       "      <td>Sunrisers Hyderabad</td>\n",
       "      <td>35</td>\n",
       "      <td>0</td>\n",
       "      <td>Yuvraj Singh</td>\n",
       "      <td>AY Dandekar</td>\n",
       "      <td>NJ Llong</td>\n",
       "    </tr>\n",
       "    <tr>\n",
       "      <th>1</th>\n",
       "      <td>2017</td>\n",
       "      <td>Pune</td>\n",
       "      <td>Mumbai Indians</td>\n",
       "      <td>Rising Pune Supergiant</td>\n",
       "      <td>Rising Pune Supergiant</td>\n",
       "      <td>field</td>\n",
       "      <td>normal</td>\n",
       "      <td>Rising Pune Supergiant</td>\n",
       "      <td>0</td>\n",
       "      <td>7</td>\n",
       "      <td>SPD Smith</td>\n",
       "      <td>A Nand Kishore</td>\n",
       "      <td>S Ravi</td>\n",
       "    </tr>\n",
       "    <tr>\n",
       "      <th>2</th>\n",
       "      <td>2017</td>\n",
       "      <td>Rajkot</td>\n",
       "      <td>Gujarat Lions</td>\n",
       "      <td>Kolkata Knight Riders</td>\n",
       "      <td>Kolkata Knight Riders</td>\n",
       "      <td>field</td>\n",
       "      <td>normal</td>\n",
       "      <td>Kolkata Knight Riders</td>\n",
       "      <td>0</td>\n",
       "      <td>10</td>\n",
       "      <td>CA Lynn</td>\n",
       "      <td>Nitin Menon</td>\n",
       "      <td>CK Nandan</td>\n",
       "    </tr>\n",
       "    <tr>\n",
       "      <th>3</th>\n",
       "      <td>2017</td>\n",
       "      <td>Indore</td>\n",
       "      <td>Rising Pune Supergiant</td>\n",
       "      <td>Kings XI Punjab</td>\n",
       "      <td>Kings XI Punjab</td>\n",
       "      <td>field</td>\n",
       "      <td>normal</td>\n",
       "      <td>Kings XI Punjab</td>\n",
       "      <td>0</td>\n",
       "      <td>6</td>\n",
       "      <td>GJ Maxwell</td>\n",
       "      <td>AK Chaudhary</td>\n",
       "      <td>C Shamshuddin</td>\n",
       "    </tr>\n",
       "    <tr>\n",
       "      <th>4</th>\n",
       "      <td>2017</td>\n",
       "      <td>Bangalore</td>\n",
       "      <td>Royal Challengers Bangalore</td>\n",
       "      <td>Delhi Daredevils</td>\n",
       "      <td>Royal Challengers Bangalore</td>\n",
       "      <td>bat</td>\n",
       "      <td>normal</td>\n",
       "      <td>Royal Challengers Bangalore</td>\n",
       "      <td>15</td>\n",
       "      <td>0</td>\n",
       "      <td>KM Jadhav</td>\n",
       "      <td>Virender Sharma</td>\n",
       "      <td>S Ravi</td>\n",
       "    </tr>\n",
       "  </tbody>\n",
       "</table>\n",
       "</div>"
      ],
      "text/plain": [
       "   season       city                        team1  \\\n",
       "0    2017  Hyderabad          Sunrisers Hyderabad   \n",
       "1    2017       Pune               Mumbai Indians   \n",
       "2    2017     Rajkot                Gujarat Lions   \n",
       "3    2017     Indore       Rising Pune Supergiant   \n",
       "4    2017  Bangalore  Royal Challengers Bangalore   \n",
       "\n",
       "                         team2                  toss_winner toss_decision  \\\n",
       "0  Royal Challengers Bangalore  Royal Challengers Bangalore         field   \n",
       "1       Rising Pune Supergiant       Rising Pune Supergiant         field   \n",
       "2        Kolkata Knight Riders        Kolkata Knight Riders         field   \n",
       "3              Kings XI Punjab              Kings XI Punjab         field   \n",
       "4             Delhi Daredevils  Royal Challengers Bangalore           bat   \n",
       "\n",
       "   result                       winner  win_by_runs  win_by_wickets  \\\n",
       "0  normal          Sunrisers Hyderabad           35               0   \n",
       "1  normal       Rising Pune Supergiant            0               7   \n",
       "2  normal        Kolkata Knight Riders            0              10   \n",
       "3  normal              Kings XI Punjab            0               6   \n",
       "4  normal  Royal Challengers Bangalore           15               0   \n",
       "\n",
       "  player_of_match          umpire1        umpire2  \n",
       "0    Yuvraj Singh      AY Dandekar       NJ Llong  \n",
       "1       SPD Smith   A Nand Kishore         S Ravi  \n",
       "2         CA Lynn      Nitin Menon      CK Nandan  \n",
       "3      GJ Maxwell     AK Chaudhary  C Shamshuddin  \n",
       "4       KM Jadhav  Virender Sharma         S Ravi  "
      ]
     },
     "execution_count": 6,
     "metadata": {},
     "output_type": "execute_result"
    }
   ],
   "source": [
    "df.head()"
   ]
  },
  {
   "cell_type": "markdown",
   "id": "d3668070",
   "metadata": {},
   "source": [
    "### Handling of missing values\n",
    "\n",
    "#### Applying heatmap\n",
    "\n",
    "A heatmap is plotted to observe various null values and thus it is accounted for."
   ]
  },
  {
   "cell_type": "code",
   "execution_count": 7,
   "id": "3c0246aa",
   "metadata": {},
   "outputs": [
    {
     "data": {
      "text/plain": [
       "<AxesSubplot:>"
      ]
     },
     "execution_count": 7,
     "metadata": {},
     "output_type": "execute_result"
    },
    {
     "data": {
      "image/png": "[encoded data removed]",
      "text/plain": [
       "<Figure size 432x288 with 1 Axes>"
      ]
     },
     "metadata": {
      "needs_background": "light"
     },
     "output_type": "display_data"
    }
   ],
   "source": [
    "sns.heatmap(df.isnull(), yticklabels = False, cbar = False, cmap = 'viridis')"
   ]
  },
  {
   "cell_type": "markdown",
   "id": "cacfdca1",
   "metadata": {},
   "source": [
    "\n",
    "Below function is applied to find out entire count of NaN values."
   ]
  },
  {
   "cell_type": "code",
   "execution_count": 8,
   "id": "2ae4b763",
   "metadata": {
    "scrolled": false
   },
   "outputs": [
    {
     "data": {
      "text/plain": [
       "0"
      ]
     },
     "execution_count": 8,
     "metadata": {},
     "output_type": "execute_result"
    }
   ],
   "source": [
    "df.isna().sum().sum()"
   ]
  },
  {
   "cell_type": "markdown",
   "id": "1cc2f08f",
   "metadata": {},
   "source": [
    "It can be observed that few of the values are missing in city, umpire1 and umpire2.\n",
    "Those values are manually searched for agains dates when the matches were held and filled.\n",
    "\n",
    "The empty spaces are filled with details gathered from ESPN cricket matches articles."
   ]
  },
  {
   "cell_type": "markdown",
   "id": "d2bfaa84",
   "metadata": {},
   "source": [
    "### Important Note:\n",
    "Here Bengaluru and Bangalore are present resulting to same location but different names. Similary it is for Sundaram Ravi and S Ravi. These two values are handled"
   ]
  },
  {
   "cell_type": "markdown",
   "id": "81e559c9",
   "metadata": {},
   "source": [
    "### Correlation Map"
   ]
  },
  {
   "cell_type": "code",
   "execution_count": 9,
   "id": "959db763",
   "metadata": {},
   "outputs": [
    {
     "data": {
      "text/plain": [
       "<AxesSubplot:>"
      ]
     },
     "execution_count": 9,
     "metadata": {},
     "output_type": "execute_result"
    },
    {
     "data": {
      "image/png": "[encoded data removed]",
      "text/plain": [
       "<Figure size 432x288 with 2 Axes>"
      ]
     },
     "metadata": {
      "needs_background": "light"
     },
     "output_type": "display_data"
    }
   ],
   "source": [
    "sns.heatmap(df.corr(), annot = True, linewidth = 0.5, fmt = '.3f')"
   ]
  },
  {
   "cell_type": "markdown",
   "id": "87d2004d",
   "metadata": {},
   "source": [
    "# Data is ready. Now let us graphically understand the data and address each and every problem statement"
   ]
  },
  {
   "cell_type": "markdown",
   "id": "639528cf",
   "metadata": {},
   "source": [
    "# 1) To find the team that won the most number of matches in the entire IPL."
   ]
  },
  {
   "cell_type": "code",
   "execution_count": 12,
   "id": "8fe18c56",
   "metadata": {
    "scrolled": false
   },
   "outputs": [
    {
     "data": {
      "text/plain": [
       "Text(0, 0.5, 'No of Matches Won')"
      ]
     },
     "execution_count": 12,
     "metadata": {},
     "output_type": "execute_result"
    },
    {
     "data": {
      "image/png": "[encoded data removed]",
      "text/plain": [
       "<Figure size 432x288 with 1 Axes>"
      ]
     },
     "metadata": {
      "needs_background": "light"
     },
     "output_type": "display_data"
    }
   ],
   "source": [
    "#Let us plot some graphs to understand this problem statement\n",
    "\n",
    "sns.countplot(x = 'winner', data = df, order = df['winner'].value_counts().index)\n",
    "plt.xticks(rotation = 90)\n",
    "plt.title('Most matches won')\n",
    "plt.xlabel('Team Name')\n",
    "plt.ylabel('No of Matches Won')"
   ]
  },
  {
   "cell_type": "code",
   "execution_count": 13,
   "id": "b084cccb",
   "metadata": {
    "scrolled": false
   },
   "outputs": [
    {
     "data": {
      "text/plain": [
       "Text(0, 0.5, 'No of Matches Won')"
      ]
     },
     "execution_count": 13,
     "metadata": {},
     "output_type": "execute_result"
    },
    {
     "data": {
      "image/png": "[encoded data removed]",
      "text/plain": [
       "<Figure size 432x288 with 1 Axes>"
      ]
     },
     "metadata": {
      "needs_background": "light"
     },
     "output_type": "display_data"
    }
   ],
   "source": [
    "# So now let us see the first 5 teams that has won the most no of competition\n",
    "\n",
    "sns.countplot(x = 'winner', data = df, order = df['winner'].value_counts().iloc[:5].index)\n",
    "plt.xticks(rotation = 90)\n",
    "plt.title('Most matches won')\n",
    "plt.xlabel('Team Name')\n",
    "plt.ylabel('No of Matches Won')"
   ]
  },
  {
   "cell_type": "code",
   "execution_count": 14,
   "id": "29829040",
   "metadata": {},
   "outputs": [
    {
     "data": {
      "image/png": "[encoded data removed]",
      "text/plain": [
       "<Figure size 432x288 with 1 Axes>"
      ]
     },
     "metadata": {},
     "output_type": "display_data"
    }
   ],
   "source": [
    "mostWins = dict(df['winner'].value_counts())\n",
    "\n",
    "labels = []\n",
    "sizes = []\n",
    "\n",
    "for x, y in mostWins.items():\n",
    "    labels.append(x)\n",
    "    sizes.append(y)\n",
    "explode = (0.1, 0, 0, 0, 0)\n",
    "plt.pie(sizes[:5], labels=labels[:5], autopct='%.1f%%', explode=explode, shadow=True, startangle=140)\n",
    "\n",
    "plt.axis('equal')\n",
    "plt.show()"
   ]
  },
  {
   "cell_type": "code",
   "execution_count": 15,
   "id": "24d9868c",
   "metadata": {},
   "outputs": [
    {
     "data": {
      "text/html": [
       "<div>\n",
       "<style scoped>\n",
       "    .dataframe tbody tr th:only-of-type {\n",
       "        vertical-align: middle;\n",
       "    }\n",
       "\n",
       "    .dataframe tbody tr th {\n",
       "        vertical-align: top;\n",
       "    }\n",
       "\n",
       "    .dataframe thead th {\n",
       "        text-align: right;\n",
       "    }\n",
       "</style>\n",
       "<table border=\"1\" class=\"dataframe\">\n",
       "  <thead>\n",
       "    <tr style=\"text-align: right;\">\n",
       "      <th></th>\n",
       "      <th>No.of Wins</th>\n",
       "    </tr>\n",
       "  </thead>\n",
       "  <tbody>\n",
       "    <tr>\n",
       "      <th>Mumbai Indians</th>\n",
       "      <td>109</td>\n",
       "    </tr>\n",
       "    <tr>\n",
       "      <th>Chennai Super Kings</th>\n",
       "      <td>100</td>\n",
       "    </tr>\n",
       "    <tr>\n",
       "      <th>Kolkata Knight Riders</th>\n",
       "      <td>92</td>\n",
       "    </tr>\n",
       "    <tr>\n",
       "      <th>Royal Challengers Bangalore</th>\n",
       "      <td>84</td>\n",
       "    </tr>\n",
       "    <tr>\n",
       "      <th>Kings XI Punjab</th>\n",
       "      <td>82</td>\n",
       "    </tr>\n",
       "    <tr>\n",
       "      <th>Rajasthan Royals</th>\n",
       "      <td>75</td>\n",
       "    </tr>\n",
       "    <tr>\n",
       "      <th>Delhi Daredevils</th>\n",
       "      <td>67</td>\n",
       "    </tr>\n",
       "    <tr>\n",
       "      <th>Sunrisers Hyderabad</th>\n",
       "      <td>58</td>\n",
       "    </tr>\n",
       "    <tr>\n",
       "      <th>Deccan Chargers</th>\n",
       "      <td>29</td>\n",
       "    </tr>\n",
       "    <tr>\n",
       "      <th>Gujarat Lions</th>\n",
       "      <td>13</td>\n",
       "    </tr>\n",
       "    <tr>\n",
       "      <th>Pune Warriors</th>\n",
       "      <td>12</td>\n",
       "    </tr>\n",
       "    <tr>\n",
       "      <th>Rising Pune Supergiant</th>\n",
       "      <td>10</td>\n",
       "    </tr>\n",
       "    <tr>\n",
       "      <th>Delhi Capitals</th>\n",
       "      <td>10</td>\n",
       "    </tr>\n",
       "    <tr>\n",
       "      <th>Kochi Tuskers Kerala</th>\n",
       "      <td>6</td>\n",
       "    </tr>\n",
       "    <tr>\n",
       "      <th>Rising Pune Supergiants</th>\n",
       "      <td>5</td>\n",
       "    </tr>\n",
       "    <tr>\n",
       "      <th>Over</th>\n",
       "      <td>4</td>\n",
       "    </tr>\n",
       "  </tbody>\n",
       "</table>\n",
       "</div>"
      ],
      "text/plain": [
       "                             No.of Wins\n",
       "Mumbai Indians                      109\n",
       "Chennai Super Kings                 100\n",
       "Kolkata Knight Riders                92\n",
       "Royal Challengers Bangalore          84\n",
       "Kings XI Punjab                      82\n",
       "Rajasthan Royals                     75\n",
       "Delhi Daredevils                     67\n",
       "Sunrisers Hyderabad                  58\n",
       "Deccan Chargers                      29\n",
       "Gujarat Lions                        13\n",
       "Pune Warriors                        12\n",
       "Rising Pune Supergiant               10\n",
       "Delhi Capitals                       10\n",
       "Kochi Tuskers Kerala                  6\n",
       "Rising Pune Supergiants               5\n",
       "Over                                  4"
      ]
     },
     "execution_count": 15,
     "metadata": {},
     "output_type": "execute_result"
    }
   ],
   "source": [
    "df_mostWins = pd.DataFrame.from_dict(data = mostWins, orient = 'index', columns = ['No.of Wins'])\n",
    "df_mostWins"
   ]
  },
  {
   "cell_type": "markdown",
   "id": "6975d752",
   "metadata": {},
   "source": [
    "## 2.To find the team that lost the most number of matches in the entire IPL.\n",
    "\n",
    "As it can be observed the data is directly not given in the csv file.  So let us create a column for losers and apply a function to fill the value by comparing team1, team2 info across winners, to get the losers value"
   ]
  },
  {
   "cell_type": "code",
   "execution_count": 16,
   "id": "06818d52",
   "metadata": {},
   "outputs": [],
   "source": [
    "#Creating a function that will handle return losing team values to the csv file\n",
    "\n",
    "def loser(cols):\n",
    "    team1 = cols[0]\n",
    "    team2 = cols[1]\n",
    "    winner = cols[2]\n",
    "    \n",
    "    if team1 != winner:\n",
    "        return team1\n",
    "    if team2 != winner:\n",
    "        return team2"
   ]
  },
  {
   "cell_type": "code",
   "execution_count": 19,
   "id": "706c828a",
   "metadata": {},
   "outputs": [],
   "source": [
    "#Let us create a empty column and apply the function to get the values.\n",
    "\n",
    "df['loser'] = \"\"\n",
    "df['loser'] = df[['team1', 'team2', 'winner']].apply(loser, axis = 1)"
   ]
  },
  {
   "cell_type": "code",
   "execution_count": 20,
   "id": "b02c7e1b",
   "metadata": {},
   "outputs": [
    {
     "data": {
      "text/html": [
       "<div>\n",
       "<style scoped>\n",
       "    .dataframe tbody tr th:only-of-type {\n",
       "        vertical-align: middle;\n",
       "    }\n",
       "\n",
       "    .dataframe tbody tr th {\n",
       "        vertical-align: top;\n",
       "    }\n",
       "\n",
       "    .dataframe thead th {\n",
       "        text-align: right;\n",
       "    }\n",
       "</style>\n",
       "<table border=\"1\" class=\"dataframe\">\n",
       "  <thead>\n",
       "    <tr style=\"text-align: right;\">\n",
       "      <th></th>\n",
       "      <th>season</th>\n",
       "      <th>city</th>\n",
       "      <th>team1</th>\n",
       "      <th>team2</th>\n",
       "      <th>toss_winner</th>\n",
       "      <th>toss_decision</th>\n",
       "      <th>result</th>\n",
       "      <th>winner</th>\n",
       "      <th>win_by_runs</th>\n",
       "      <th>win_by_wickets</th>\n",
       "      <th>player_of_match</th>\n",
       "      <th>umpire1</th>\n",
       "      <th>umpire2</th>\n",
       "      <th>loser</th>\n",
       "    </tr>\n",
       "  </thead>\n",
       "  <tbody>\n",
       "    <tr>\n",
       "      <th>0</th>\n",
       "      <td>2017</td>\n",
       "      <td>Hyderabad</td>\n",
       "      <td>Sunrisers Hyderabad</td>\n",
       "      <td>Royal Challengers Bangalore</td>\n",
       "      <td>Royal Challengers Bangalore</td>\n",
       "      <td>field</td>\n",
       "      <td>normal</td>\n",
       "      <td>Sunrisers Hyderabad</td>\n",
       "      <td>35</td>\n",
       "      <td>0</td>\n",
       "      <td>Yuvraj Singh</td>\n",
       "      <td>AY Dandekar</td>\n",
       "      <td>NJ Llong</td>\n",
       "      <td>Royal Challengers Bangalore</td>\n",
       "    </tr>\n",
       "    <tr>\n",
       "      <th>1</th>\n",
       "      <td>2017</td>\n",
       "      <td>Pune</td>\n",
       "      <td>Mumbai Indians</td>\n",
       "      <td>Rising Pune Supergiant</td>\n",
       "      <td>Rising Pune Supergiant</td>\n",
       "      <td>field</td>\n",
       "      <td>normal</td>\n",
       "      <td>Rising Pune Supergiant</td>\n",
       "      <td>0</td>\n",
       "      <td>7</td>\n",
       "      <td>SPD Smith</td>\n",
       "      <td>A Nand Kishore</td>\n",
       "      <td>S Ravi</td>\n",
       "      <td>Mumbai Indians</td>\n",
       "    </tr>\n",
       "    <tr>\n",
       "      <th>2</th>\n",
       "      <td>2017</td>\n",
       "      <td>Rajkot</td>\n",
       "      <td>Gujarat Lions</td>\n",
       "      <td>Kolkata Knight Riders</td>\n",
       "      <td>Kolkata Knight Riders</td>\n",
       "      <td>field</td>\n",
       "      <td>normal</td>\n",
       "      <td>Kolkata Knight Riders</td>\n",
       "      <td>0</td>\n",
       "      <td>10</td>\n",
       "      <td>CA Lynn</td>\n",
       "      <td>Nitin Menon</td>\n",
       "      <td>CK Nandan</td>\n",
       "      <td>Gujarat Lions</td>\n",
       "    </tr>\n",
       "    <tr>\n",
       "      <th>3</th>\n",
       "      <td>2017</td>\n",
       "      <td>Indore</td>\n",
       "      <td>Rising Pune Supergiant</td>\n",
       "      <td>Kings XI Punjab</td>\n",
       "      <td>Kings XI Punjab</td>\n",
       "      <td>field</td>\n",
       "      <td>normal</td>\n",
       "      <td>Kings XI Punjab</td>\n",
       "      <td>0</td>\n",
       "      <td>6</td>\n",
       "      <td>GJ Maxwell</td>\n",
       "      <td>AK Chaudhary</td>\n",
       "      <td>C Shamshuddin</td>\n",
       "      <td>Rising Pune Supergiant</td>\n",
       "    </tr>\n",
       "    <tr>\n",
       "      <th>4</th>\n",
       "      <td>2017</td>\n",
       "      <td>Bangalore</td>\n",
       "      <td>Royal Challengers Bangalore</td>\n",
       "      <td>Delhi Daredevils</td>\n",
       "      <td>Royal Challengers Bangalore</td>\n",
       "      <td>bat</td>\n",
       "      <td>normal</td>\n",
       "      <td>Royal Challengers Bangalore</td>\n",
       "      <td>15</td>\n",
       "      <td>0</td>\n",
       "      <td>KM Jadhav</td>\n",
       "      <td>Virender Sharma</td>\n",
       "      <td>S Ravi</td>\n",
       "      <td>Delhi Daredevils</td>\n",
       "    </tr>\n",
       "  </tbody>\n",
       "</table>\n",
       "</div>"
      ],
      "text/plain": [
       "   season       city                        team1  \\\n",
       "0    2017  Hyderabad          Sunrisers Hyderabad   \n",
       "1    2017       Pune               Mumbai Indians   \n",
       "2    2017     Rajkot                Gujarat Lions   \n",
       "3    2017     Indore       Rising Pune Supergiant   \n",
       "4    2017  Bangalore  Royal Challengers Bangalore   \n",
       "\n",
       "                         team2                  toss_winner toss_decision  \\\n",
       "0  Royal Challengers Bangalore  Royal Challengers Bangalore         field   \n",
       "1       Rising Pune Supergiant       Rising Pune Supergiant         field   \n",
       "2        Kolkata Knight Riders        Kolkata Knight Riders         field   \n",
       "3              Kings XI Punjab              Kings XI Punjab         field   \n",
       "4             Delhi Daredevils  Royal Challengers Bangalore           bat   \n",
       "\n",
       "   result                       winner  win_by_runs  win_by_wickets  \\\n",
       "0  normal          Sunrisers Hyderabad           35               0   \n",
       "1  normal       Rising Pune Supergiant            0               7   \n",
       "2  normal        Kolkata Knight Riders            0              10   \n",
       "3  normal              Kings XI Punjab            0               6   \n",
       "4  normal  Royal Challengers Bangalore           15               0   \n",
       "\n",
       "  player_of_match          umpire1        umpire2                        loser  \n",
       "0    Yuvraj Singh      AY Dandekar       NJ Llong  Royal Challengers Bangalore  \n",
       "1       SPD Smith   A Nand Kishore         S Ravi               Mumbai Indians  \n",
       "2         CA Lynn      Nitin Menon      CK Nandan                Gujarat Lions  \n",
       "3      GJ Maxwell     AK Chaudhary  C Shamshuddin       Rising Pune Supergiant  \n",
       "4       KM Jadhav  Virender Sharma         S Ravi             Delhi Daredevils  "
      ]
     },
     "execution_count": 20,
     "metadata": {},
     "output_type": "execute_result"
    }
   ],
   "source": [
    "df.head()"
   ]
  },
  {
   "cell_type": "code",
   "execution_count": 21,
   "id": "9d58f2aa",
   "metadata": {},
   "outputs": [
    {
     "data": {
      "text/plain": [
       "0"
      ]
     },
     "execution_count": 21,
     "metadata": {},
     "output_type": "execute_result"
    }
   ],
   "source": [
    "#Let us recheck count of missing values. Just for reconfirmation\n",
    "\n",
    "df.isna().sum().sum()"
   ]
  },
  {
   "cell_type": "code",
   "execution_count": 22,
   "id": "454de89a",
   "metadata": {},
   "outputs": [
    {
     "data": {
      "text/plain": [
       "Text(0, 0.5, 'No of Matches Lost')"
      ]
     },
     "execution_count": 22,
     "metadata": {},
     "output_type": "execute_result"
    },
    {
     "data": {
      "image/png": "[encoded data removed]",
      "text/plain": [
       "<Figure size 432x288 with 1 Axes>"
      ]
     },
     "metadata": {
      "needs_background": "light"
     },
     "output_type": "display_data"
    }
   ],
   "source": [
    "#Let us plot some graphs to understand this problem statement\n",
    "\n",
    "sns.countplot(x = 'loser', data = df, order = df['loser'].value_counts().index)\n",
    "plt.xticks(rotation = 90)\n",
    "plt.title('Most matches Lost')\n",
    "plt.xlabel('Team Name')\n",
    "plt.ylabel('No of Matches Lost')"
   ]
  },
  {
   "cell_type": "code",
   "execution_count": 23,
   "id": "1531d0c5",
   "metadata": {},
   "outputs": [
    {
     "data": {
      "text/plain": [
       "Text(0, 0.5, 'No of Matches Lost')"
      ]
     },
     "execution_count": 23,
     "metadata": {},
     "output_type": "execute_result"
    },
    {
     "data": {
      "image/png": "[encoded data removed]",
      "text/plain": [
       "<Figure size 432x288 with 1 Axes>"
      ]
     },
     "metadata": {
      "needs_background": "light"
     },
     "output_type": "display_data"
    }
   ],
   "source": [
    "# So now let us see the first 5 teams that has won the most no of competition\n",
    "\n",
    "sns.countplot(x = 'loser', data = df, order = df['loser'].value_counts().iloc[:5].index)\n",
    "plt.xticks(rotation = 90)\n",
    "plt.title('Most matches Lost')\n",
    "plt.xlabel('Team Name')\n",
    "plt.ylabel('No of Matches Lost')"
   ]
  },
  {
   "cell_type": "code",
   "execution_count": 24,
   "id": "143a8b32",
   "metadata": {},
   "outputs": [
    {
     "data": {
      "image/png": "[encoded data removed]",
      "text/plain": [
       "<Figure size 432x288 with 1 Axes>"
      ]
     },
     "metadata": {},
     "output_type": "display_data"
    }
   ],
   "source": [
    "mostloss = dict(df['loser'].value_counts())\n",
    "\n",
    "labels_loss = []\n",
    "sizes_loss = []\n",
    "\n",
    "for x, y in mostloss.items():\n",
    "    labels_loss.append(x)\n",
    "    sizes_loss.append(y)\n",
    "\n",
    "plt.pie(sizes_loss[:5], labels=labels_loss[:5], autopct='%.1f%%', explode= (0.1,0,0,0,0), shadow=True, startangle=140)\n",
    "\n",
    "plt.axis('equal')\n",
    "plt.show()"
   ]
  },
  {
   "cell_type": "code",
   "execution_count": 25,
   "id": "7c0c1186",
   "metadata": {
    "scrolled": false
   },
   "outputs": [
    {
     "data": {
      "text/html": [
       "<div>\n",
       "<style scoped>\n",
       "    .dataframe tbody tr th:only-of-type {\n",
       "        vertical-align: middle;\n",
       "    }\n",
       "\n",
       "    .dataframe tbody tr th {\n",
       "        vertical-align: top;\n",
       "    }\n",
       "\n",
       "    .dataframe thead th {\n",
       "        text-align: right;\n",
       "    }\n",
       "</style>\n",
       "<table border=\"1\" class=\"dataframe\">\n",
       "  <thead>\n",
       "    <tr style=\"text-align: right;\">\n",
       "      <th></th>\n",
       "      <th>No.of Losses</th>\n",
       "    </tr>\n",
       "  </thead>\n",
       "  <tbody>\n",
       "    <tr>\n",
       "      <th>Royal Challengers Bangalore</th>\n",
       "      <td>95</td>\n",
       "    </tr>\n",
       "    <tr>\n",
       "      <th>Delhi Daredevils</th>\n",
       "      <td>94</td>\n",
       "    </tr>\n",
       "    <tr>\n",
       "      <th>Kings XI Punjab</th>\n",
       "      <td>94</td>\n",
       "    </tr>\n",
       "    <tr>\n",
       "      <th>Kolkata Knight Riders</th>\n",
       "      <td>86</td>\n",
       "    </tr>\n",
       "    <tr>\n",
       "      <th>Mumbai Indians</th>\n",
       "      <td>78</td>\n",
       "    </tr>\n",
       "    <tr>\n",
       "      <th>Rajasthan Royals</th>\n",
       "      <td>70</td>\n",
       "    </tr>\n",
       "    <tr>\n",
       "      <th>Chennai Super Kings</th>\n",
       "      <td>64</td>\n",
       "    </tr>\n",
       "    <tr>\n",
       "      <th>Sunrisers Hyderabad</th>\n",
       "      <td>50</td>\n",
       "    </tr>\n",
       "    <tr>\n",
       "      <th>Deccan Chargers</th>\n",
       "      <td>46</td>\n",
       "    </tr>\n",
       "    <tr>\n",
       "      <th>Pune Warriors</th>\n",
       "      <td>33</td>\n",
       "    </tr>\n",
       "    <tr>\n",
       "      <th>Gujarat Lions</th>\n",
       "      <td>17</td>\n",
       "    </tr>\n",
       "    <tr>\n",
       "      <th>Rising Pune Supergiants</th>\n",
       "      <td>9</td>\n",
       "    </tr>\n",
       "    <tr>\n",
       "      <th>Kochi Tuskers Kerala</th>\n",
       "      <td>8</td>\n",
       "    </tr>\n",
       "    <tr>\n",
       "      <th>Rising Pune Supergiant</th>\n",
       "      <td>6</td>\n",
       "    </tr>\n",
       "    <tr>\n",
       "      <th>Delhi Capitals</th>\n",
       "      <td>6</td>\n",
       "    </tr>\n",
       "  </tbody>\n",
       "</table>\n",
       "</div>"
      ],
      "text/plain": [
       "                             No.of Losses\n",
       "Royal Challengers Bangalore            95\n",
       "Delhi Daredevils                       94\n",
       "Kings XI Punjab                        94\n",
       "Kolkata Knight Riders                  86\n",
       "Mumbai Indians                         78\n",
       "Rajasthan Royals                       70\n",
       "Chennai Super Kings                    64\n",
       "Sunrisers Hyderabad                    50\n",
       "Deccan Chargers                        46\n",
       "Pune Warriors                          33\n",
       "Gujarat Lions                          17\n",
       "Rising Pune Supergiants                 9\n",
       "Kochi Tuskers Kerala                    8\n",
       "Rising Pune Supergiant                  6\n",
       "Delhi Capitals                          6"
      ]
     },
     "execution_count": 25,
     "metadata": {},
     "output_type": "execute_result"
    }
   ],
   "source": [
    "df_mostloss = pd.DataFrame.from_dict(data = mostloss, orient = 'index', columns = ['No.of Losses'])\n",
    "df_mostloss"
   ]
  },
  {
   "cell_type": "markdown",
   "id": "2c4f51a9",
   "metadata": {},
   "source": [
    "# 3. Does winning a toss increase the chances of victory.\n",
    "\n",
    "Let us plot two graphs to see the trend of match wins related to toss wins\n",
    "\n",
    "1. `Teams that won both the toss and match` \n",
    "We will use the data of winner and toss_winner column to find the solution\n",
    "\n",
    "2. `Most no of toss wins against most no match wins`\n",
    "We will create a dataframe with these two values of all team against their values and then plot to see its trend."
   ]
  },
  {
   "cell_type": "code",
   "execution_count": 26,
   "id": "55b050fd",
   "metadata": {},
   "outputs": [],
   "source": [
    "#This function is to identify the teams that has won both the match and the toss.\n",
    "\n",
    "def tossMatch(cols):\n",
    "    winner = cols[0]\n",
    "    toss_winner = cols[1]\n",
    "    \n",
    "    \n",
    "    if toss_winner == winner:\n",
    "        return winner"
   ]
  },
  {
   "cell_type": "code",
   "execution_count": 27,
   "id": "a2cd7ed5",
   "metadata": {},
   "outputs": [],
   "source": [
    "df['toss/win'] = \"\"\n",
    "df['toss/win'] = df[['winner', 'toss_winner']].apply(tossMatch, axis = 1)"
   ]
  },
  {
   "cell_type": "code",
   "execution_count": 28,
   "id": "baaa2ed5",
   "metadata": {},
   "outputs": [
    {
     "data": {
      "text/html": [
       "<div>\n",
       "<style scoped>\n",
       "    .dataframe tbody tr th:only-of-type {\n",
       "        vertical-align: middle;\n",
       "    }\n",
       "\n",
       "    .dataframe tbody tr th {\n",
       "        vertical-align: top;\n",
       "    }\n",
       "\n",
       "    .dataframe thead th {\n",
       "        text-align: right;\n",
       "    }\n",
       "</style>\n",
       "<table border=\"1\" class=\"dataframe\">\n",
       "  <thead>\n",
       "    <tr style=\"text-align: right;\">\n",
       "      <th></th>\n",
       "      <th>season</th>\n",
       "      <th>city</th>\n",
       "      <th>team1</th>\n",
       "      <th>team2</th>\n",
       "      <th>toss_winner</th>\n",
       "      <th>toss_decision</th>\n",
       "      <th>result</th>\n",
       "      <th>winner</th>\n",
       "      <th>win_by_runs</th>\n",
       "      <th>win_by_wickets</th>\n",
       "      <th>player_of_match</th>\n",
       "      <th>umpire1</th>\n",
       "      <th>umpire2</th>\n",
       "      <th>loser</th>\n",
       "      <th>toss/win</th>\n",
       "    </tr>\n",
       "  </thead>\n",
       "  <tbody>\n",
       "    <tr>\n",
       "      <th>0</th>\n",
       "      <td>2017</td>\n",
       "      <td>Hyderabad</td>\n",
       "      <td>Sunrisers Hyderabad</td>\n",
       "      <td>Royal Challengers Bangalore</td>\n",
       "      <td>Royal Challengers Bangalore</td>\n",
       "      <td>field</td>\n",
       "      <td>normal</td>\n",
       "      <td>Sunrisers Hyderabad</td>\n",
       "      <td>35</td>\n",
       "      <td>0</td>\n",
       "      <td>Yuvraj Singh</td>\n",
       "      <td>AY Dandekar</td>\n",
       "      <td>NJ Llong</td>\n",
       "      <td>Royal Challengers Bangalore</td>\n",
       "      <td>None</td>\n",
       "    </tr>\n",
       "    <tr>\n",
       "      <th>1</th>\n",
       "      <td>2017</td>\n",
       "      <td>Pune</td>\n",
       "      <td>Mumbai Indians</td>\n",
       "      <td>Rising Pune Supergiant</td>\n",
       "      <td>Rising Pune Supergiant</td>\n",
       "      <td>field</td>\n",
       "      <td>normal</td>\n",
       "      <td>Rising Pune Supergiant</td>\n",
       "      <td>0</td>\n",
       "      <td>7</td>\n",
       "      <td>SPD Smith</td>\n",
       "      <td>A Nand Kishore</td>\n",
       "      <td>S Ravi</td>\n",
       "      <td>Mumbai Indians</td>\n",
       "      <td>Rising Pune Supergiant</td>\n",
       "    </tr>\n",
       "    <tr>\n",
       "      <th>2</th>\n",
       "      <td>2017</td>\n",
       "      <td>Rajkot</td>\n",
       "      <td>Gujarat Lions</td>\n",
       "      <td>Kolkata Knight Riders</td>\n",
       "      <td>Kolkata Knight Riders</td>\n",
       "      <td>field</td>\n",
       "      <td>normal</td>\n",
       "      <td>Kolkata Knight Riders</td>\n",
       "      <td>0</td>\n",
       "      <td>10</td>\n",
       "      <td>CA Lynn</td>\n",
       "      <td>Nitin Menon</td>\n",
       "      <td>CK Nandan</td>\n",
       "      <td>Gujarat Lions</td>\n",
       "      <td>Kolkata Knight Riders</td>\n",
       "    </tr>\n",
       "    <tr>\n",
       "      <th>3</th>\n",
       "      <td>2017</td>\n",
       "      <td>Indore</td>\n",
       "      <td>Rising Pune Supergiant</td>\n",
       "      <td>Kings XI Punjab</td>\n",
       "      <td>Kings XI Punjab</td>\n",
       "      <td>field</td>\n",
       "      <td>normal</td>\n",
       "      <td>Kings XI Punjab</td>\n",
       "      <td>0</td>\n",
       "      <td>6</td>\n",
       "      <td>GJ Maxwell</td>\n",
       "      <td>AK Chaudhary</td>\n",
       "      <td>C Shamshuddin</td>\n",
       "      <td>Rising Pune Supergiant</td>\n",
       "      <td>Kings XI Punjab</td>\n",
       "    </tr>\n",
       "    <tr>\n",
       "      <th>4</th>\n",
       "      <td>2017</td>\n",
       "      <td>Bangalore</td>\n",
       "      <td>Royal Challengers Bangalore</td>\n",
       "      <td>Delhi Daredevils</td>\n",
       "      <td>Royal Challengers Bangalore</td>\n",
       "      <td>bat</td>\n",
       "      <td>normal</td>\n",
       "      <td>Royal Challengers Bangalore</td>\n",
       "      <td>15</td>\n",
       "      <td>0</td>\n",
       "      <td>KM Jadhav</td>\n",
       "      <td>Virender Sharma</td>\n",
       "      <td>S Ravi</td>\n",
       "      <td>Delhi Daredevils</td>\n",
       "      <td>Royal Challengers Bangalore</td>\n",
       "    </tr>\n",
       "  </tbody>\n",
       "</table>\n",
       "</div>"
      ],
      "text/plain": [
       "   season       city                        team1  \\\n",
       "0    2017  Hyderabad          Sunrisers Hyderabad   \n",
       "1    2017       Pune               Mumbai Indians   \n",
       "2    2017     Rajkot                Gujarat Lions   \n",
       "3    2017     Indore       Rising Pune Supergiant   \n",
       "4    2017  Bangalore  Royal Challengers Bangalore   \n",
       "\n",
       "                         team2                  toss_winner toss_decision  \\\n",
       "0  Royal Challengers Bangalore  Royal Challengers Bangalore         field   \n",
       "1       Rising Pune Supergiant       Rising Pune Supergiant         field   \n",
       "2        Kolkata Knight Riders        Kolkata Knight Riders         field   \n",
       "3              Kings XI Punjab              Kings XI Punjab         field   \n",
       "4             Delhi Daredevils  Royal Challengers Bangalore           bat   \n",
       "\n",
       "   result                       winner  win_by_runs  win_by_wickets  \\\n",
       "0  normal          Sunrisers Hyderabad           35               0   \n",
       "1  normal       Rising Pune Supergiant            0               7   \n",
       "2  normal        Kolkata Knight Riders            0              10   \n",
       "3  normal              Kings XI Punjab            0               6   \n",
       "4  normal  Royal Challengers Bangalore           15               0   \n",
       "\n",
       "  player_of_match          umpire1        umpire2  \\\n",
       "0    Yuvraj Singh      AY Dandekar       NJ Llong   \n",
       "1       SPD Smith   A Nand Kishore         S Ravi   \n",
       "2         CA Lynn      Nitin Menon      CK Nandan   \n",
       "3      GJ Maxwell     AK Chaudhary  C Shamshuddin   \n",
       "4       KM Jadhav  Virender Sharma         S Ravi   \n",
       "\n",
       "                         loser                     toss/win  \n",
       "0  Royal Challengers Bangalore                         None  \n",
       "1               Mumbai Indians       Rising Pune Supergiant  \n",
       "2                Gujarat Lions        Kolkata Knight Riders  \n",
       "3       Rising Pune Supergiant              Kings XI Punjab  \n",
       "4             Delhi Daredevils  Royal Challengers Bangalore  "
      ]
     },
     "execution_count": 28,
     "metadata": {},
     "output_type": "execute_result"
    }
   ],
   "source": [
    "df.head()"
   ]
  },
  {
   "cell_type": "code",
   "execution_count": 29,
   "id": "6ce645cd",
   "metadata": {},
   "outputs": [
    {
     "data": {
      "text/plain": [
       "{'Chennai Super Kings': 57,\n",
       " 'Mumbai Indians': 56,\n",
       " 'Kolkata Knight Riders': 53,\n",
       " 'Rajasthan Royals': 42,\n",
       " 'Royal Challengers Bangalore': 41,\n",
       " 'Delhi Daredevils': 35,\n",
       " 'Kings XI Punjab': 35,\n",
       " 'Sunrisers Hyderabad': 23,\n",
       " 'Deccan Chargers': 19,\n",
       " 'Gujarat Lions': 10,\n",
       " 'Delhi Capitals': 7,\n",
       " 'Rising Pune Supergiant': 5,\n",
       " 'Kochi Tuskers Kerala': 4,\n",
       " 'Pune Warriors': 3,\n",
       " 'Rising Pune Supergiants': 3}"
      ]
     },
     "execution_count": 29,
     "metadata": {},
     "output_type": "execute_result"
    }
   ],
   "source": [
    "tosswin = dict(df['toss/win'].value_counts())\n",
    "tosswin"
   ]
  },
  {
   "cell_type": "code",
   "execution_count": 30,
   "id": "f36f405b",
   "metadata": {
    "scrolled": false
   },
   "outputs": [
    {
     "data": {
      "text/plain": [
       "Text(0, 0.5, 'Won both Toss and Match')"
      ]
     },
     "execution_count": 30,
     "metadata": {},
     "output_type": "execute_result"
    },
    {
     "data": {
      "image/png": "[encoded data removed]",
      "text/plain": [
       "<Figure size 432x288 with 1 Axes>"
      ]
     },
     "metadata": {
      "needs_background": "light"
     },
     "output_type": "display_data"
    }
   ],
   "source": [
    "sns.countplot(x = 'toss/win', data = df, order = df['toss/win'].value_counts().iloc[:5].index)\n",
    "plt.xticks(rotation = 90)\n",
    "plt.title('Most matches won after winning toss')\n",
    "plt.xlabel('Team Name')\n",
    "plt.ylabel('Won both Toss and Match')"
   ]
  },
  {
   "cell_type": "code",
   "execution_count": 31,
   "id": "78aa87aa",
   "metadata": {},
   "outputs": [
    {
     "data": {
      "image/png": "[encoded data removed]",
      "text/plain": [
       "<Figure size 432x288 with 1 Axes>"
      ]
     },
     "metadata": {},
     "output_type": "display_data"
    }
   ],
   "source": [
    "labels_tw = []\n",
    "sizes_tw = []\n",
    "\n",
    "for x, y in tosswin.items():\n",
    "    labels_tw.append(x)\n",
    "    sizes_tw.append(y)\n",
    "\n",
    "plt.pie(sizes_tw[:5], labels=labels_tw[:5], autopct='%.1f%%', explode= (0.1,0,0,0,0), shadow=True, startangle=140)\n",
    "\n",
    "plt.axis('equal')\n",
    "plt.show()"
   ]
  },
  {
   "cell_type": "code",
   "execution_count": 32,
   "id": "61cc36f5",
   "metadata": {},
   "outputs": [],
   "source": [
    "#Let us merge the required datas i.e, mostWins, mostLoss, tosswin to create the new required dataframe\n",
    "\n",
    "df_mtm = pd.DataFrame.from_dict(data = [mostWins,tosswin,mostloss]).T\n",
    "df_mtm.columns = ['Wins', 'Tosswins', 'Loss']"
   ]
  },
  {
   "cell_type": "code",
   "execution_count": 33,
   "id": "20adb961",
   "metadata": {},
   "outputs": [
    {
     "data": {
      "text/html": [
       "<div>\n",
       "<style scoped>\n",
       "    .dataframe tbody tr th:only-of-type {\n",
       "        vertical-align: middle;\n",
       "    }\n",
       "\n",
       "    .dataframe tbody tr th {\n",
       "        vertical-align: top;\n",
       "    }\n",
       "\n",
       "    .dataframe thead th {\n",
       "        text-align: right;\n",
       "    }\n",
       "</style>\n",
       "<table border=\"1\" class=\"dataframe\">\n",
       "  <thead>\n",
       "    <tr style=\"text-align: right;\">\n",
       "      <th></th>\n",
       "      <th>Wins</th>\n",
       "      <th>Tosswins</th>\n",
       "      <th>Loss</th>\n",
       "    </tr>\n",
       "  </thead>\n",
       "  <tbody>\n",
       "    <tr>\n",
       "      <th>Mumbai Indians</th>\n",
       "      <td>109.0</td>\n",
       "      <td>56.0</td>\n",
       "      <td>78.0</td>\n",
       "    </tr>\n",
       "    <tr>\n",
       "      <th>Chennai Super Kings</th>\n",
       "      <td>100.0</td>\n",
       "      <td>57.0</td>\n",
       "      <td>64.0</td>\n",
       "    </tr>\n",
       "    <tr>\n",
       "      <th>Kolkata Knight Riders</th>\n",
       "      <td>92.0</td>\n",
       "      <td>53.0</td>\n",
       "      <td>86.0</td>\n",
       "    </tr>\n",
       "    <tr>\n",
       "      <th>Royal Challengers Bangalore</th>\n",
       "      <td>84.0</td>\n",
       "      <td>41.0</td>\n",
       "      <td>95.0</td>\n",
       "    </tr>\n",
       "    <tr>\n",
       "      <th>Kings XI Punjab</th>\n",
       "      <td>82.0</td>\n",
       "      <td>35.0</td>\n",
       "      <td>94.0</td>\n",
       "    </tr>\n",
       "    <tr>\n",
       "      <th>Rajasthan Royals</th>\n",
       "      <td>75.0</td>\n",
       "      <td>42.0</td>\n",
       "      <td>70.0</td>\n",
       "    </tr>\n",
       "    <tr>\n",
       "      <th>Delhi Daredevils</th>\n",
       "      <td>67.0</td>\n",
       "      <td>35.0</td>\n",
       "      <td>94.0</td>\n",
       "    </tr>\n",
       "    <tr>\n",
       "      <th>Sunrisers Hyderabad</th>\n",
       "      <td>58.0</td>\n",
       "      <td>23.0</td>\n",
       "      <td>50.0</td>\n",
       "    </tr>\n",
       "    <tr>\n",
       "      <th>Deccan Chargers</th>\n",
       "      <td>29.0</td>\n",
       "      <td>19.0</td>\n",
       "      <td>46.0</td>\n",
       "    </tr>\n",
       "    <tr>\n",
       "      <th>Gujarat Lions</th>\n",
       "      <td>13.0</td>\n",
       "      <td>10.0</td>\n",
       "      <td>17.0</td>\n",
       "    </tr>\n",
       "    <tr>\n",
       "      <th>Pune Warriors</th>\n",
       "      <td>12.0</td>\n",
       "      <td>3.0</td>\n",
       "      <td>33.0</td>\n",
       "    </tr>\n",
       "    <tr>\n",
       "      <th>Rising Pune Supergiant</th>\n",
       "      <td>10.0</td>\n",
       "      <td>5.0</td>\n",
       "      <td>6.0</td>\n",
       "    </tr>\n",
       "    <tr>\n",
       "      <th>Delhi Capitals</th>\n",
       "      <td>10.0</td>\n",
       "      <td>7.0</td>\n",
       "      <td>6.0</td>\n",
       "    </tr>\n",
       "    <tr>\n",
       "      <th>Kochi Tuskers Kerala</th>\n",
       "      <td>6.0</td>\n",
       "      <td>4.0</td>\n",
       "      <td>8.0</td>\n",
       "    </tr>\n",
       "    <tr>\n",
       "      <th>Rising Pune Supergiants</th>\n",
       "      <td>5.0</td>\n",
       "      <td>3.0</td>\n",
       "      <td>9.0</td>\n",
       "    </tr>\n",
       "    <tr>\n",
       "      <th>Over</th>\n",
       "      <td>4.0</td>\n",
       "      <td>NaN</td>\n",
       "      <td>NaN</td>\n",
       "    </tr>\n",
       "  </tbody>\n",
       "</table>\n",
       "</div>"
      ],
      "text/plain": [
       "                              Wins  Tosswins  Loss\n",
       "Mumbai Indians               109.0      56.0  78.0\n",
       "Chennai Super Kings          100.0      57.0  64.0\n",
       "Kolkata Knight Riders         92.0      53.0  86.0\n",
       "Royal Challengers Bangalore   84.0      41.0  95.0\n",
       "Kings XI Punjab               82.0      35.0  94.0\n",
       "Rajasthan Royals              75.0      42.0  70.0\n",
       "Delhi Daredevils              67.0      35.0  94.0\n",
       "Sunrisers Hyderabad           58.0      23.0  50.0\n",
       "Deccan Chargers               29.0      19.0  46.0\n",
       "Gujarat Lions                 13.0      10.0  17.0\n",
       "Pune Warriors                 12.0       3.0  33.0\n",
       "Rising Pune Supergiant        10.0       5.0   6.0\n",
       "Delhi Capitals                10.0       7.0   6.0\n",
       "Kochi Tuskers Kerala           6.0       4.0   8.0\n",
       "Rising Pune Supergiants        5.0       3.0   9.0\n",
       "Over                           4.0       NaN   NaN"
      ]
     },
     "execution_count": 33,
     "metadata": {},
     "output_type": "execute_result"
    }
   ],
   "source": [
    "df_mtm"
   ]
  },
  {
   "cell_type": "code",
   "execution_count": 34,
   "id": "3f9e1b68",
   "metadata": {},
   "outputs": [
    {
     "data": {
      "text/plain": [
       "<seaborn.axisgrid.FacetGrid at 0x2b756ccb6d0>"
      ]
     },
     "execution_count": 34,
     "metadata": {},
     "output_type": "execute_result"
    },
    {
     "data": {
      "image/png": "[encoded data removed]",
      "text/plain": [
       "<Figure size 360x360 with 1 Axes>"
      ]
     },
     "metadata": {
      "needs_background": "light"
     },
     "output_type": "display_data"
    }
   ],
   "source": [
    "sns.lmplot(x = 'Wins', y = 'Tosswins', data = df_mtm)"
   ]
  },
  {
   "cell_type": "markdown",
   "id": "cc8e9ef7",
   "metadata": {},
   "source": [
    "#### Observations:\n",
    "It can be observed that the relationship seems to be fairly linear. Thus it can be concluded that more toss wins increases winning chances"
   ]
  },
  {
   "cell_type": "code",
   "execution_count": 35,
   "id": "afca94fe",
   "metadata": {},
   "outputs": [
    {
     "data": {
      "text/plain": [
       "<seaborn.axisgrid.FacetGrid at 0x2b756e8ca00>"
      ]
     },
     "execution_count": 35,
     "metadata": {},
     "output_type": "execute_result"
    },
    {
     "data": {
      "image/png": "[encoded data removed]",
      "text/plain": [
       "<Figure size 360x360 with 1 Axes>"
      ]
     },
     "metadata": {
      "needs_background": "light"
     },
     "output_type": "display_data"
    }
   ],
   "source": [
    "#Plotting Loss against Tosswins\n",
    "\n",
    "sns.lmplot(x = 'Loss', y = 'Tosswins', data = df_mtm)"
   ]
  },
  {
   "cell_type": "markdown",
   "id": "924f46cb",
   "metadata": {},
   "source": [
    "#### Observations:\n",
    "It can be observed that the relationship seems to have too many outliers.\n",
    "The distance between data points and linear regression seems to be high too."
   ]
  },
  {
   "cell_type": "markdown",
   "id": "6295b4ff",
   "metadata": {},
   "source": [
    "### OUTPUT:\n",
    "It can be said from the following two graphs that the winning of a toss matters."
   ]
  },
  {
   "cell_type": "markdown",
   "id": "32ef935b",
   "metadata": {},
   "source": [
    "# 4. To find the player with the most player of the match awards.\n"
   ]
  },
  {
   "cell_type": "code",
   "execution_count": 36,
   "id": "dc85dfd3",
   "metadata": {
    "scrolled": false
   },
   "outputs": [
    {
     "data": {
      "text/plain": [
       "Text(0, 0.5, 'No of Player of Match Awards')"
      ]
     },
     "execution_count": 36,
     "metadata": {},
     "output_type": "execute_result"
    },
    {
     "data": {
      "image/png": "[encoded data removed]",
      "text/plain": [
       "<Figure size 432x288 with 1 Axes>"
      ]
     },
     "metadata": {
      "needs_background": "light"
     },
     "output_type": "display_data"
    }
   ],
   "source": [
    "sns.countplot(x = 'player_of_match', data = df, order = df['player_of_match'].value_counts().iloc[:5].index)\n",
    "plt.xticks(rotation = 90)\n",
    "plt.title('Most player of the match awards')\n",
    "plt.xlabel('Player Name')\n",
    "plt.ylabel('No of Player of Match Awards')"
   ]
  },
  {
   "cell_type": "code",
   "execution_count": 37,
   "id": "6e38b617",
   "metadata": {},
   "outputs": [
    {
     "data": {
      "image/png": "[encoded data removed]",
      "text/plain": [
       "<Figure size 432x288 with 1 Axes>"
      ]
     },
     "metadata": {},
     "output_type": "display_data"
    }
   ],
   "source": [
    "mom = dict(df['player_of_match'].value_counts())\n",
    "\n",
    "labels_mom = []\n",
    "sizes_mom = []\n",
    "\n",
    "for x, y in mom.items():\n",
    "    labels_mom.append(x)\n",
    "    sizes_mom.append(y)\n",
    "\n",
    "plt.pie(sizes_mom[:5], labels=labels_mom[:5], autopct='%.1f%%', explode= (0.1,0,0,0,0), shadow=True, startangle=140)\n",
    "\n",
    "plt.axis('equal')\n",
    "plt.show()"
   ]
  },
  {
   "cell_type": "markdown",
   "id": "5a088dd9",
   "metadata": {},
   "source": [
    "# 5. To find the city that hosted the maximum number of IPL matches."
   ]
  },
  {
   "cell_type": "code",
   "execution_count": 38,
   "id": "b3c27661",
   "metadata": {
    "scrolled": false
   },
   "outputs": [
    {
     "data": {
      "text/plain": [
       "Text(0, 0.5, 'No of matches hosted')"
      ]
     },
     "execution_count": 38,
     "metadata": {},
     "output_type": "execute_result"
    },
    {
     "data": {
      "image/png": "[encoded data removed]",
      "text/plain": [
       "<Figure size 432x288 with 1 Axes>"
      ]
     },
     "metadata": {
      "needs_background": "light"
     },
     "output_type": "display_data"
    }
   ],
   "source": [
    "sns.countplot(x = 'city', data = df, order = df['city'].value_counts().iloc[:5].index)\n",
    "plt.xticks(rotation = 90)\n",
    "plt.title('City that hosted Most matches')\n",
    "plt.xlabel('City Name')\n",
    "plt.ylabel('No of matches hosted')"
   ]
  },
  {
   "cell_type": "code",
   "execution_count": 39,
   "id": "a58ffd95",
   "metadata": {},
   "outputs": [
    {
     "data": {
      "image/png": "[encoded data removed]",
      "text/plain": [
       "<Figure size 432x288 with 1 Axes>"
      ]
     },
     "metadata": {},
     "output_type": "display_data"
    }
   ],
   "source": [
    "city = dict(df['city'].value_counts())\n",
    "\n",
    "labels_city = []\n",
    "sizes_city = []\n",
    "\n",
    "for x, y in city.items():\n",
    "    labels_city.append(x)\n",
    "    sizes_city.append(y)\n",
    "\n",
    "plt.pie(sizes_city[:5], labels=labels_city[:5], autopct='%.1f%%', explode= (0.1,0,0,0,0), shadow=True, startangle=140)\n",
    "\n",
    "plt.axis('equal')\n",
    "plt.show()"
   ]
  },
  {
   "cell_type": "markdown",
   "id": "bc2de0ae",
   "metadata": {},
   "source": [
    "# 6. To find the most winning team for each season."
   ]
  },
  {
   "cell_type": "markdown",
   "id": "2226f9a4",
   "metadata": {},
   "source": [
    "First let us observe each teams total wins - season wise"
   ]
  },
  {
   "cell_type": "code",
   "execution_count": 40,
   "id": "7aa6bbf5",
   "metadata": {},
   "outputs": [
    {
     "data": {
      "text/plain": [
       "2013    76\n",
       "2012    74\n",
       "2011    73\n",
       "2010    60\n",
       "2014    60\n",
       "2016    60\n",
       "2018    60\n",
       "2019    60\n",
       "2015    59\n",
       "2017    59\n",
       "2008    58\n",
       "2009    57\n",
       "Name: season, dtype: int64"
      ]
     },
     "execution_count": 40,
     "metadata": {},
     "output_type": "execute_result"
    }
   ],
   "source": [
    "df['season'].value_counts()"
   ]
  },
  {
   "cell_type": "code",
   "execution_count": 41,
   "id": "3d664a18",
   "metadata": {},
   "outputs": [
    {
     "data": {
      "text/plain": [
       "winner                     \n",
       "Rajasthan Royals               13\n",
       "Kings XI Punjab                10\n",
       "Chennai Super Kings             9\n",
       "Delhi Daredevils                7\n",
       "Mumbai Indians                  7\n",
       "Kolkata Knight Riders           6\n",
       "Royal Challengers Bangalore     4\n",
       "Deccan Chargers                 2\n",
       "dtype: int64"
      ]
     },
     "execution_count": 41,
     "metadata": {},
     "output_type": "execute_result"
    }
   ],
   "source": [
    "df.loc[df['season'] == 2008, ['winner']].value_counts()"
   ]
  },
  {
   "cell_type": "code",
   "execution_count": 42,
   "id": "30a2b3d3",
   "metadata": {},
   "outputs": [
    {
     "data": {
      "text/plain": [
       "winner                     \n",
       "Delhi Daredevils               10\n",
       "Deccan Chargers                 9\n",
       "Royal Challengers Bangalore     9\n",
       "Chennai Super Kings             8\n",
       "Kings XI Punjab                 7\n",
       "Rajasthan Royals                6\n",
       "Mumbai Indians                  5\n",
       "Kolkata Knight Riders           3\n",
       "dtype: int64"
      ]
     },
     "execution_count": 42,
     "metadata": {},
     "output_type": "execute_result"
    }
   ],
   "source": [
    "df.loc[df['season'] == 2009, ['winner']].value_counts()"
   ]
  },
  {
   "cell_type": "code",
   "execution_count": 43,
   "id": "86f456db",
   "metadata": {},
   "outputs": [
    {
     "data": {
      "text/plain": [
       "winner                     \n",
       "Mumbai Indians                 11\n",
       "Chennai Super Kings             9\n",
       "Deccan Chargers                 8\n",
       "Royal Challengers Bangalore     8\n",
       "Delhi Daredevils                7\n",
       "Kolkata Knight Riders           7\n",
       "Rajasthan Royals                6\n",
       "Kings XI Punjab                 4\n",
       "dtype: int64"
      ]
     },
     "execution_count": 43,
     "metadata": {},
     "output_type": "execute_result"
    }
   ],
   "source": [
    "df.loc[df['season'] == 2010, ['winner']].value_counts()"
   ]
  },
  {
   "cell_type": "code",
   "execution_count": 44,
   "id": "177c0986",
   "metadata": {},
   "outputs": [
    {
     "data": {
      "text/plain": [
       "winner                     \n",
       "Chennai Super Kings            11\n",
       "Mumbai Indians                 10\n",
       "Royal Challengers Bangalore    10\n",
       "Kolkata Knight Riders           8\n",
       "Kings XI Punjab                 7\n",
       "Deccan Chargers                 6\n",
       "Kochi Tuskers Kerala            6\n",
       "Rajasthan Royals                6\n",
       "Delhi Daredevils                4\n",
       "Pune Warriors                   4\n",
       "Over                            1\n",
       "dtype: int64"
      ]
     },
     "execution_count": 44,
     "metadata": {},
     "output_type": "execute_result"
    }
   ],
   "source": [
    "df.loc[df['season'] == 2011, ['winner']].value_counts()"
   ]
  },
  {
   "cell_type": "code",
   "execution_count": 45,
   "id": "75048c2b",
   "metadata": {},
   "outputs": [
    {
     "data": {
      "text/plain": [
       "winner                     \n",
       "Kolkata Knight Riders          12\n",
       "Delhi Daredevils               11\n",
       "Chennai Super Kings            10\n",
       "Mumbai Indians                 10\n",
       "Kings XI Punjab                 8\n",
       "Royal Challengers Bangalore     8\n",
       "Rajasthan Royals                7\n",
       "Deccan Chargers                 4\n",
       "Pune Warriors                   4\n",
       "dtype: int64"
      ]
     },
     "execution_count": 45,
     "metadata": {},
     "output_type": "execute_result"
    }
   ],
   "source": [
    "df.loc[df['season'] == 2012, ['winner']].value_counts()"
   ]
  },
  {
   "cell_type": "code",
   "execution_count": 46,
   "id": "a5190e83",
   "metadata": {},
   "outputs": [
    {
     "data": {
      "text/plain": [
       "winner                     \n",
       "Mumbai Indians                 13\n",
       "Chennai Super Kings            12\n",
       "Rajasthan Royals               11\n",
       "Sunrisers Hyderabad            10\n",
       "Royal Challengers Bangalore     9\n",
       "Kings XI Punjab                 8\n",
       "Kolkata Knight Riders           6\n",
       "Pune Warriors                   4\n",
       "Delhi Daredevils                3\n",
       "dtype: int64"
      ]
     },
     "execution_count": 46,
     "metadata": {},
     "output_type": "execute_result"
    }
   ],
   "source": [
    "df.loc[df['season'] == 2013, ['winner']].value_counts()"
   ]
  },
  {
   "cell_type": "code",
   "execution_count": 47,
   "id": "a0bddc34",
   "metadata": {},
   "outputs": [
    {
     "data": {
      "text/plain": [
       "winner                     \n",
       "Kings XI Punjab                12\n",
       "Kolkata Knight Riders          11\n",
       "Chennai Super Kings            10\n",
       "Mumbai Indians                  7\n",
       "Rajasthan Royals                7\n",
       "Sunrisers Hyderabad             6\n",
       "Royal Challengers Bangalore     5\n",
       "Delhi Daredevils                2\n",
       "dtype: int64"
      ]
     },
     "execution_count": 47,
     "metadata": {},
     "output_type": "execute_result"
    }
   ],
   "source": [
    "df.loc[df['season'] == 2014, ['winner']].value_counts()"
   ]
  },
  {
   "cell_type": "code",
   "execution_count": 48,
   "id": "576535aa",
   "metadata": {},
   "outputs": [
    {
     "data": {
      "text/plain": [
       "winner                     \n",
       "Chennai Super Kings            10\n",
       "Mumbai Indians                 10\n",
       "Royal Challengers Bangalore     8\n",
       "Kolkata Knight Riders           7\n",
       "Rajasthan Royals                7\n",
       "Sunrisers Hyderabad             7\n",
       "Delhi Daredevils                5\n",
       "Kings XI Punjab                 3\n",
       "Over                            2\n",
       "dtype: int64"
      ]
     },
     "execution_count": 48,
     "metadata": {},
     "output_type": "execute_result"
    }
   ],
   "source": [
    "df.loc[df['season'] == 2015, ['winner']].value_counts()"
   ]
  },
  {
   "cell_type": "code",
   "execution_count": 49,
   "id": "5ca06bae",
   "metadata": {},
   "outputs": [
    {
     "data": {
      "text/plain": [
       "winner                     \n",
       "Sunrisers Hyderabad            11\n",
       "Gujarat Lions                   9\n",
       "Royal Challengers Bangalore     9\n",
       "Kolkata Knight Riders           8\n",
       "Delhi Daredevils                7\n",
       "Mumbai Indians                  7\n",
       "Rising Pune Supergiants         5\n",
       "Kings XI Punjab                 4\n",
       "dtype: int64"
      ]
     },
     "execution_count": 49,
     "metadata": {},
     "output_type": "execute_result"
    }
   ],
   "source": [
    "df.loc[df['season'] == 2016, ['winner']].value_counts()"
   ]
  },
  {
   "cell_type": "code",
   "execution_count": 50,
   "id": "096e81f7",
   "metadata": {},
   "outputs": [
    {
     "data": {
      "text/plain": [
       "winner                     \n",
       "Mumbai Indians                 12\n",
       "Rising Pune Supergiant         10\n",
       "Kolkata Knight Riders           9\n",
       "Sunrisers Hyderabad             8\n",
       "Kings XI Punjab                 7\n",
       "Delhi Daredevils                6\n",
       "Gujarat Lions                   4\n",
       "Royal Challengers Bangalore     3\n",
       "dtype: int64"
      ]
     },
     "execution_count": 50,
     "metadata": {},
     "output_type": "execute_result"
    }
   ],
   "source": [
    "df.loc[df['season'] == 2017, ['winner']].value_counts()"
   ]
  },
  {
   "cell_type": "code",
   "execution_count": 51,
   "id": "711ff1a5",
   "metadata": {},
   "outputs": [
    {
     "data": {
      "text/plain": [
       "winner                     \n",
       "Chennai Super Kings            11\n",
       "Sunrisers Hyderabad            10\n",
       "Kolkata Knight Riders           9\n",
       "Rajasthan Royals                7\n",
       "Kings XI Punjab                 6\n",
       "Mumbai Indians                  6\n",
       "Royal Challengers Bangalore     6\n",
       "Delhi Daredevils                5\n",
       "dtype: int64"
      ]
     },
     "execution_count": 51,
     "metadata": {},
     "output_type": "execute_result"
    }
   ],
   "source": [
    "df.loc[df['season'] == 2018, ['winner']].value_counts()"
   ]
  },
  {
   "cell_type": "code",
   "execution_count": 52,
   "id": "7b3aeb44",
   "metadata": {},
   "outputs": [
    {
     "data": {
      "text/plain": [
       "winner                     \n",
       "Mumbai Indians                 11\n",
       "Chennai Super Kings            10\n",
       "Delhi Capitals                 10\n",
       "Kings XI Punjab                 6\n",
       "Kolkata Knight Riders           6\n",
       "Sunrisers Hyderabad             6\n",
       "Rajasthan Royals                5\n",
       "Royal Challengers Bangalore     5\n",
       "Over                            1\n",
       "dtype: int64"
      ]
     },
     "execution_count": 52,
     "metadata": {},
     "output_type": "execute_result"
    }
   ],
   "source": [
    "df.loc[df['season'] == 2019, ['winner']].value_counts()"
   ]
  },
  {
   "cell_type": "markdown",
   "id": "7d20481b",
   "metadata": {},
   "source": [
    "#### From the above data a seperate dataframe with each team wise winning is created and a seperate plot is plotted\""
   ]
  },
  {
   "cell_type": "code",
   "execution_count": 53,
   "id": "4b70c959",
   "metadata": {},
   "outputs": [],
   "source": [
    "season = [2008, 2009, 2010, 2011, 2012, 2013, 2014, 2015, 2016, 2017, 2018, 2019]\n",
    "teams = ['Delhi Daredevils', 'Delhi Daredevils','Mumbai Indians', 'Chennai Super Kings', \n",
    "         'Kolkata Knight Riders', 'Mumbai Indians', 'Kings XI Punjab', 'Chennai Super Kings', 'Sunrisers Hyderabad', \n",
    "         'Mumbai Indians', 'Chennai Super Kings', 'Mumbai Indians']\n",
    "count_wins = [10, 10, 11, 11, 12, 13, 12, 10, 11, 12, 11, 11]\n",
    "\n",
    "df_prob6 = pd.DataFrame(list(zip(season, teams, count_wins)), columns = ['season', 'teams', 'wins'])"
   ]
  },
  {
   "cell_type": "code",
   "execution_count": 54,
   "id": "f5d19095",
   "metadata": {},
   "outputs": [
    {
     "data": {
      "text/html": [
       "<div>\n",
       "<style scoped>\n",
       "    .dataframe tbody tr th:only-of-type {\n",
       "        vertical-align: middle;\n",
       "    }\n",
       "\n",
       "    .dataframe tbody tr th {\n",
       "        vertical-align: top;\n",
       "    }\n",
       "\n",
       "    .dataframe thead th {\n",
       "        text-align: right;\n",
       "    }\n",
       "</style>\n",
       "<table border=\"1\" class=\"dataframe\">\n",
       "  <thead>\n",
       "    <tr style=\"text-align: right;\">\n",
       "      <th></th>\n",
       "      <th>season</th>\n",
       "      <th>teams</th>\n",
       "      <th>wins</th>\n",
       "    </tr>\n",
       "  </thead>\n",
       "  <tbody>\n",
       "    <tr>\n",
       "      <th>0</th>\n",
       "      <td>2008</td>\n",
       "      <td>Delhi Daredevils</td>\n",
       "      <td>10</td>\n",
       "    </tr>\n",
       "    <tr>\n",
       "      <th>1</th>\n",
       "      <td>2009</td>\n",
       "      <td>Delhi Daredevils</td>\n",
       "      <td>10</td>\n",
       "    </tr>\n",
       "    <tr>\n",
       "      <th>2</th>\n",
       "      <td>2010</td>\n",
       "      <td>Mumbai Indians</td>\n",
       "      <td>11</td>\n",
       "    </tr>\n",
       "    <tr>\n",
       "      <th>3</th>\n",
       "      <td>2011</td>\n",
       "      <td>Chennai Super Kings</td>\n",
       "      <td>11</td>\n",
       "    </tr>\n",
       "    <tr>\n",
       "      <th>4</th>\n",
       "      <td>2012</td>\n",
       "      <td>Kolkata Knight Riders</td>\n",
       "      <td>12</td>\n",
       "    </tr>\n",
       "    <tr>\n",
       "      <th>5</th>\n",
       "      <td>2013</td>\n",
       "      <td>Mumbai Indians</td>\n",
       "      <td>13</td>\n",
       "    </tr>\n",
       "    <tr>\n",
       "      <th>6</th>\n",
       "      <td>2014</td>\n",
       "      <td>Kings XI Punjab</td>\n",
       "      <td>12</td>\n",
       "    </tr>\n",
       "    <tr>\n",
       "      <th>7</th>\n",
       "      <td>2015</td>\n",
       "      <td>Chennai Super Kings</td>\n",
       "      <td>10</td>\n",
       "    </tr>\n",
       "    <tr>\n",
       "      <th>8</th>\n",
       "      <td>2016</td>\n",
       "      <td>Sunrisers Hyderabad</td>\n",
       "      <td>11</td>\n",
       "    </tr>\n",
       "    <tr>\n",
       "      <th>9</th>\n",
       "      <td>2017</td>\n",
       "      <td>Mumbai Indians</td>\n",
       "      <td>12</td>\n",
       "    </tr>\n",
       "    <tr>\n",
       "      <th>10</th>\n",
       "      <td>2018</td>\n",
       "      <td>Chennai Super Kings</td>\n",
       "      <td>11</td>\n",
       "    </tr>\n",
       "    <tr>\n",
       "      <th>11</th>\n",
       "      <td>2019</td>\n",
       "      <td>Mumbai Indians</td>\n",
       "      <td>11</td>\n",
       "    </tr>\n",
       "  </tbody>\n",
       "</table>\n",
       "</div>"
      ],
      "text/plain": [
       "    season                  teams  wins\n",
       "0     2008       Delhi Daredevils    10\n",
       "1     2009       Delhi Daredevils    10\n",
       "2     2010         Mumbai Indians    11\n",
       "3     2011    Chennai Super Kings    11\n",
       "4     2012  Kolkata Knight Riders    12\n",
       "5     2013         Mumbai Indians    13\n",
       "6     2014        Kings XI Punjab    12\n",
       "7     2015    Chennai Super Kings    10\n",
       "8     2016    Sunrisers Hyderabad    11\n",
       "9     2017         Mumbai Indians    12\n",
       "10    2018    Chennai Super Kings    11\n",
       "11    2019         Mumbai Indians    11"
      ]
     },
     "execution_count": 54,
     "metadata": {},
     "output_type": "execute_result"
    }
   ],
   "source": [
    "df_prob6"
   ]
  },
  {
   "cell_type": "markdown",
   "id": "546c1e2e",
   "metadata": {},
   "source": [
    "# 7. To find the on-field umpire with the maximum number of IPL matches."
   ]
  },
  {
   "cell_type": "markdown",
   "id": "eb9ab9be",
   "metadata": {},
   "source": [
    "### First lets oberve the count for umpire1 data"
   ]
  },
  {
   "cell_type": "code",
   "execution_count": 55,
   "id": "363f9e18",
   "metadata": {},
   "outputs": [
    {
     "data": {
      "text/plain": [
       "Text(0, 0.5, 'No of Matches')"
      ]
     },
     "execution_count": 55,
     "metadata": {},
     "output_type": "execute_result"
    },
    {
     "data": {
      "image/png": "[encoded data removed]",
      "text/plain": [
       "<Figure size 432x288 with 1 Axes>"
      ]
     },
     "metadata": {
      "needs_background": "light"
     },
     "output_type": "display_data"
    }
   ],
   "source": [
    "sns.countplot(x = 'umpire1', data = df, order = df['umpire1'].value_counts().iloc[:5].index)\n",
    "plt.xticks(rotation = 90)\n",
    "plt.title('Umpire 1')\n",
    "plt.xlabel('Umpire Name')\n",
    "plt.ylabel('No of Matches')"
   ]
  },
  {
   "cell_type": "markdown",
   "id": "7c8786a6",
   "metadata": {},
   "source": [
    "### Now lets oberve the count for umpire2 data"
   ]
  },
  {
   "cell_type": "code",
   "execution_count": 56,
   "id": "c51fe0fc",
   "metadata": {
    "scrolled": false
   },
   "outputs": [
    {
     "data": {
      "text/plain": [
       "Text(0, 0.5, 'No of Matches')"
      ]
     },
     "execution_count": 56,
     "metadata": {},
     "output_type": "execute_result"
    },
    {
     "data": {
      "image/png": "[encoded data removed]",
      "text/plain": [
       "<Figure size 432x288 with 1 Axes>"
      ]
     },
     "metadata": {
      "needs_background": "light"
     },
     "output_type": "display_data"
    }
   ],
   "source": [
    "sns.countplot(x = 'umpire2', data = df, order = df['umpire2'].value_counts().iloc[:5].index)\n",
    "plt.xticks(rotation = 90)\n",
    "plt.title('Umpire 1')\n",
    "plt.xlabel('Umpire Name')\n",
    "plt.ylabel('No of Matches')"
   ]
  },
  {
   "cell_type": "markdown",
   "id": "853c63ea",
   "metadata": {},
   "source": [
    "#### Conclusion:\n",
    "In the both plots `S Ravi` name is common. Thus he is the umpire with most no of on field umpiring for matches."
   ]
  },
  {
   "cell_type": "markdown",
   "id": "b996827b",
   "metadata": {},
   "source": [
    "# 8. To find the biggest victories in IPL while defending a total and while chasing a total."
   ]
  },
  {
   "cell_type": "markdown",
   "id": "c493c7a4",
   "metadata": {},
   "source": [
    "Two plots need to be plotted.\n",
    "1. Biggest victory while defending a total.\n",
    "2. Biggest victory while chasing a total."
   ]
  },
  {
   "cell_type": "markdown",
   "id": "fdc3319c",
   "metadata": {},
   "source": [
    "#### 1. Biggest victory while defending a total."
   ]
  },
  {
   "cell_type": "code",
   "execution_count": 57,
   "id": "947ee0cb",
   "metadata": {
    "scrolled": false
   },
   "outputs": [
    {
     "data": {
      "text/plain": [
       "([0, 1, 2, 3, 4, 5, 6, 7, 8, 9, 10, 11, 12, 13, 14, 15],\n",
       " [Text(0, 0, ''),\n",
       "  Text(0, 0, ''),\n",
       "  Text(0, 0, ''),\n",
       "  Text(0, 0, ''),\n",
       "  Text(0, 0, ''),\n",
       "  Text(0, 0, ''),\n",
       "  Text(0, 0, ''),\n",
       "  Text(0, 0, ''),\n",
       "  Text(0, 0, ''),\n",
       "  Text(0, 0, ''),\n",
       "  Text(0, 0, ''),\n",
       "  Text(0, 0, ''),\n",
       "  Text(0, 0, ''),\n",
       "  Text(0, 0, ''),\n",
       "  Text(0, 0, ''),\n",
       "  Text(0, 0, '')])"
      ]
     },
     "execution_count": 57,
     "metadata": {},
     "output_type": "execute_result"
    },
    {
     "data": {
      "image/png": "[encoded data removed]",
      "text/plain": [
       "<Figure size 432x288 with 1 Axes>"
      ]
     },
     "metadata": {
      "needs_background": "light"
     },
     "output_type": "display_data"
    }
   ],
   "source": [
    "sns.scatterplot(x = 'winner', y='win_by_runs', data = df, marker = 'x', color = 'blue')\n",
    "plt.xticks(rotation = 90)"
   ]
  },
  {
   "cell_type": "markdown",
   "id": "d60d1751",
   "metadata": {},
   "source": [
    "By seeing the above plot it can be understood that the Mumbai Indians has the highest biggest victory while defending a total.\n",
    "The below values is win by runs for Mumbai Indians."
   ]
  },
  {
   "cell_type": "code",
   "execution_count": 58,
   "id": "96bcdf1b",
   "metadata": {},
   "outputs": [
    {
     "data": {
      "text/plain": [
       "146"
      ]
     },
     "execution_count": 58,
     "metadata": {},
     "output_type": "execute_result"
    }
   ],
   "source": [
    "df['win_by_runs'].max()"
   ]
  },
  {
   "cell_type": "markdown",
   "id": "b81c6349",
   "metadata": {},
   "source": [
    "#### 2. Biggest victory while chasing a total."
   ]
  },
  {
   "cell_type": "code",
   "execution_count": 59,
   "id": "75de97de",
   "metadata": {
    "scrolled": false
   },
   "outputs": [
    {
     "data": {
      "text/plain": [
       "([0, 1, 2, 3, 4, 5, 6, 7, 8, 9, 10, 11, 12, 13, 14, 15],\n",
       " [Text(0, 0, ''),\n",
       "  Text(0, 0, ''),\n",
       "  Text(0, 0, ''),\n",
       "  Text(0, 0, ''),\n",
       "  Text(0, 0, ''),\n",
       "  Text(0, 0, ''),\n",
       "  Text(0, 0, ''),\n",
       "  Text(0, 0, ''),\n",
       "  Text(0, 0, ''),\n",
       "  Text(0, 0, ''),\n",
       "  Text(0, 0, ''),\n",
       "  Text(0, 0, ''),\n",
       "  Text(0, 0, ''),\n",
       "  Text(0, 0, ''),\n",
       "  Text(0, 0, ''),\n",
       "  Text(0, 0, '')])"
      ]
     },
     "execution_count": 59,
     "metadata": {},
     "output_type": "execute_result"
    },
    {
     "data": {
      "image/png": "[encoded data removed]",
      "text/plain": [
       "<Figure size 432x288 with 1 Axes>"
      ]
     },
     "metadata": {
      "needs_background": "light"
     },
     "output_type": "display_data"
    }
   ],
   "source": [
    "sns.scatterplot(x = 'winner', y='win_by_wickets', data = df, marker = 'x', color = 'blue')\n",
    "plt.xticks(rotation = 90)"
   ]
  },
  {
   "cell_type": "markdown",
   "id": "c28f1fac",
   "metadata": {},
   "source": [
    "From the above graph the biggest victory while chasing a total can be found out. Every team has atleast one match with win by wickets as zero. Least number of wickets is what is necessary for biggest victory."
   ]
  },
  {
   "cell_type": "markdown",
   "id": "54d9588e",
   "metadata": {},
   "source": [
    "# 9. Which team won the most matches while batting first."
   ]
  },
  {
   "cell_type": "markdown",
   "id": "a67e5c60",
   "metadata": {},
   "source": [
    "We need to add a column to find out which team won while batting first so we find out it by using below functions and perform necessary operations"
   ]
  },
  {
   "cell_type": "code",
   "execution_count": 60,
   "id": "5c39535f",
   "metadata": {},
   "outputs": [],
   "source": [
    "def winBat(cols):\n",
    "    winner = cols[0]\n",
    "    toss_winner = cols[1]\n",
    "    toss_decision = cols[2]\n",
    "    \n",
    "    if winner == toss_winner:\n",
    "        if toss_decision == 'bat':\n",
    "            return winner\n",
    "    else:\n",
    "        if toss_decision == 'field':\n",
    "            return winner"
   ]
  },
  {
   "cell_type": "code",
   "execution_count": 61,
   "id": "b1e5126a",
   "metadata": {},
   "outputs": [],
   "source": [
    "df['batfirst'] = \"\"\n",
    "df['batfirst'] = df[['winner', 'toss_winner', 'toss_decision']].apply(winBat, axis = 1)"
   ]
  },
  {
   "cell_type": "code",
   "execution_count": 62,
   "id": "c5aa5d71",
   "metadata": {
    "scrolled": false
   },
   "outputs": [
    {
     "data": {
      "text/plain": [
       "Text(0, 0.5, 'No of Matches Won')"
      ]
     },
     "execution_count": 62,
     "metadata": {},
     "output_type": "execute_result"
    },
    {
     "data": {
      "image/png": "[encoded data removed]",
      "text/plain": [
       "<Figure size 432x288 with 1 Axes>"
      ]
     },
     "metadata": {
      "needs_background": "light"
     },
     "output_type": "display_data"
    }
   ],
   "source": [
    "sns.countplot(x = 'batfirst', data = df, order = df['batfirst'].value_counts().iloc[:5].index)\n",
    "plt.xticks(rotation = 90)\n",
    "plt.title('Most matches won while batting first')\n",
    "plt.xlabel('Team name')\n",
    "plt.ylabel('No of Matches Won')"
   ]
  },
  {
   "cell_type": "markdown",
   "id": "743e70d8",
   "metadata": {},
   "source": [
    "# 10. Which team won the most matches while batting second\n",
    "\n",
    "We need to add a column to find out which team won while batting second so we find out it by using below functions and perform necessary operations"
   ]
  },
  {
   "cell_type": "code",
   "execution_count": 63,
   "id": "0908daa2",
   "metadata": {},
   "outputs": [],
   "source": [
    "def winBowl(cols):\n",
    "    winner = cols[0]\n",
    "    toss_winner = cols[1]\n",
    "    toss_decision = cols[2]\n",
    "    \n",
    "    if winner == toss_winner:\n",
    "        if toss_decision == 'field':\n",
    "            return winner\n",
    "    else:\n",
    "        if toss_decision == 'bat':\n",
    "            return winner"
   ]
  },
  {
   "cell_type": "code",
   "execution_count": 64,
   "id": "fc12de59",
   "metadata": {},
   "outputs": [],
   "source": [
    "df['batsecond'] = \"\"\n",
    "df['batsecond'] = df[['winner', 'toss_winner', 'toss_decision']].apply(winBowl, axis = 1)"
   ]
  },
  {
   "cell_type": "code",
   "execution_count": 65,
   "id": "3bded73e",
   "metadata": {
    "scrolled": false
   },
   "outputs": [
    {
     "data": {
      "text/plain": [
       "Text(0, 0.5, 'No of Matches Won')"
      ]
     },
     "execution_count": 65,
     "metadata": {},
     "output_type": "execute_result"
    },
    {
     "data": {
      "image/png": "[encoded data removed]",
      "text/plain": [
       "<Figure size 432x288 with 1 Axes>"
      ]
     },
     "metadata": {
      "needs_background": "light"
     },
     "output_type": "display_data"
    }
   ],
   "source": [
    "sns.countplot(x = 'batsecond', data = df, order = df['batsecond'].value_counts().iloc[:5].index)\n",
    "plt.xticks(rotation = 90)\n",
    "plt.title('Most matches won while batting second.')\n",
    "plt.xlabel('Team name')\n",
    "plt.ylabel('No of Matches Won')"
   ]
  },
  {
   "cell_type": "markdown",
   "id": "2d92da4f",
   "metadata": {},
   "source": [
    "# 11. List of teams which have won matches by most runs cumulatively"
   ]
  },
  {
   "cell_type": "code",
   "execution_count": 66,
   "id": "70681bea",
   "metadata": {
    "scrolled": false
   },
   "outputs": [
    {
     "data": {
      "text/plain": [
       "{'Chennai Super Kings': 1778,\n",
       " 'Deccan Chargers': 421,\n",
       " 'Delhi Capitals': 92,\n",
       " 'Delhi Daredevils': 675,\n",
       " 'Gujarat Lions': 1,\n",
       " 'Kings XI Punjab': 925,\n",
       " 'Kochi Tuskers Kerala': 23,\n",
       " 'Kolkata Knight Riders': 1086,\n",
       " 'Mumbai Indians': 1866,\n",
       " 'Over': 0,\n",
       " 'Pune Warriors': 139,\n",
       " 'Rajasthan Royals': 895,\n",
       " 'Rising Pune Supergiant': 123,\n",
       " 'Rising Pune Supergiants': 53,\n",
       " 'Royal Challengers Bangalore': 1252,\n",
       " 'Sunrisers Hyderabad': 713}"
      ]
     },
     "execution_count": 66,
     "metadata": {},
     "output_type": "execute_result"
    }
   ],
   "source": [
    "cumDict = dict(df.groupby('winner')['win_by_runs'].sum())\n",
    "cumDict"
   ]
  },
  {
   "cell_type": "code",
   "execution_count": 67,
   "id": "3af67002",
   "metadata": {
    "scrolled": false
   },
   "outputs": [
    {
     "data": {
      "text/plain": [
       "(array([ 0,  1,  2,  3,  4,  5,  6,  7,  8,  9, 10, 11, 12, 13, 14, 15]),\n",
       " [Text(0, 0, 'Chennai Super Kings'),\n",
       "  Text(1, 0, 'Deccan Chargers'),\n",
       "  Text(2, 0, 'Delhi Capitals'),\n",
       "  Text(3, 0, 'Delhi Daredevils'),\n",
       "  Text(4, 0, 'Gujarat Lions'),\n",
       "  Text(5, 0, 'Kings XI Punjab'),\n",
       "  Text(6, 0, 'Kochi Tuskers Kerala'),\n",
       "  Text(7, 0, 'Kolkata Knight Riders'),\n",
       "  Text(8, 0, 'Mumbai Indians'),\n",
       "  Text(9, 0, 'Over'),\n",
       "  Text(10, 0, 'Pune Warriors'),\n",
       "  Text(11, 0, 'Rajasthan Royals'),\n",
       "  Text(12, 0, 'Rising Pune Supergiant'),\n",
       "  Text(13, 0, 'Rising Pune Supergiants'),\n",
       "  Text(14, 0, 'Royal Challengers Bangalore'),\n",
       "  Text(15, 0, 'Sunrisers Hyderabad')])"
      ]
     },
     "execution_count": 67,
     "metadata": {},
     "output_type": "execute_result"
    },
    {
     "data": {
      "image/png": "[encoded data removed]",
      "text/plain": [
       "<Figure size 432x288 with 1 Axes>"
      ]
     },
     "metadata": {
      "needs_background": "light"
     },
     "output_type": "display_data"
    }
   ],
   "source": [
    "keys = list(cumDict.keys())\n",
    "vals = [(cumDict[k]) for k in keys]\n",
    "sns.barplot(x=keys, y=vals)\n",
    "plt.xticks(rotation = 90)"
   ]
  },
  {
   "cell_type": "markdown",
   "id": "185d7fef",
   "metadata": {},
   "source": [
    "# SOLUTION:\n",
    "\n",
    "### 1. To find the team that won the most number of matches in the entire IPL.\n",
    "##### Answer: Mumbai Indians\n",
    "### 2. To find the team that lost the most number of matches in the entire IPL.\n",
    "##### Answer: Royal Challengers Bangalore\n",
    "### 3. Does winning a toss increase the chances of victory.\n",
    "##### Answer: The trend observed shows a linear relationship, but there are few outliers too. But it can be concluded that it does increase the chances of victory.\n",
    "### 4. To find the player with the most player of the match awards.\n",
    "##### Answer: CH Gayle\n",
    "### 5. To find the city that hosted the maximum number of IPL matches.\n",
    "##### Answer: Mumbai\n",
    "### 6. To find the most winning team for each season.\n",
    "##### Answer: \n",
    "1.  2008-Delhi Daredevils-10\n",
    "2.\t2009-Delhi Daredevils-10\n",
    "3.\t2010-Mumbai Indians-11\n",
    "4.\t2011-Chennai Super Kings-11\n",
    "5.\t2012-Kolkata Knight Riders-12\n",
    "6.\t2013-Mumbai Indians-13\n",
    "7.\t2014-Kings XI Punjab-12\n",
    "8.\t2015-Chennai Super Kings-10\n",
    "9.\t2016-Sunrisers Hyderabad-11\n",
    "10.\t2017-Mumbai Indians-12\n",
    "11.\t2018-Chennai Super Kings-11\n",
    "12.\t2019-Mumbai Indians-11\n",
    "### 7. To find the on-field umpire with the maximum number of IPL matches.\n",
    "##### Answer: S Ravi\n",
    "### 8. To find the biggest victories in IPL while defending a total and while chasing a total.\n",
    "##### Answer: While chasing a total `Every team has atleast one biggest victory match`\n",
    "#####                While defending a total `Mumbai Indians by 146 runs`\n",
    "### 9. Which team won the most matches while batting first\n",
    "##### Answer: Mumbai Indians\n",
    "### 10. Which team won the most matches while batting second\n",
    "##### Answer: Kolkata Knight Riders\n",
    "### 11. List of teams which have won matches by most runs cumulatively\n",
    "##### Answer: Mumbai Indians with 1866 Runs"
   ]
  },
  {
   "cell_type": "markdown",
   "id": "abd071e7",
   "metadata": {},
   "source": [
    "# THAK YOU"
   ]
  }
 ],
 "metadata": {
  "kernelspec": {
   "display_name": "Python 3",
   "language": "python",
   "name": "python3"
  },
  "language_info": {
   "codemirror_mode": {
    "name": "ipython",
    "version": 3
   },
   "file_extension": ".py",
   "mimetype": "text/x-python",
   "name": "python",
   "nbconvert_exporter": "python",
   "pygments_lexer": "ipython3",
   "version": "3.8.8"
  }
 },
 "nbformat": 4,
 "nbformat_minor": 5
}
